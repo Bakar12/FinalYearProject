{
 "cells": [
  {
   "cell_type": "markdown",
   "source": [
    "# Stroke Prediction Model Comparison"
   ],
   "metadata": {
    "collapsed": false
   },
   "id": "2db9bf5d29a4a88b"
  },
  {
   "cell_type": "markdown",
   "source": [
    "This notebook aims to explore, preprocess, and model a dataset to predict the likelihood of a stroke. We will compare multiple algorithms to find the best performer based on accuracy, precision, recall, and F1 score.\n",
    "The dataset used in this notebook is from Kaggle and can be found [here](https://www.kaggle.com/fedesoriano/stroke-prediction-dataset)."
   ],
   "metadata": {
    "collapsed": false
   },
   "id": "6c1c1eeec3c6ec2e"
  },
  {
   "cell_type": "markdown",
   "source": [
    "## Introduction"
   ],
   "metadata": {
    "collapsed": false
   },
   "id": "b7fca87db570f9a7"
  },
  {
   "cell_type": "markdown",
   "source": [
    "A stroke is a medical condition in which poor blood flow to the brain results in cell death. There are two main types of stroke: ischemic, due to lack of blood flow, and hemorrhagic, due to bleeding. Both result in parts of the brain not functioning properly. Signs and symptoms of a stroke may include an inability to move or feel on one side of the body, problems understanding or speaking, dizziness, or loss of vision to one side. A stroke is a medical emergency, and treatment must be sought as quickly as possible. The longer a stroke goes untreated, the greater the potential for brain damage and disability."
   ],
   "metadata": {
    "collapsed": false
   },
   "id": "3d7daf23669c0228"
  },
  {
   "cell_type": "markdown",
   "source": [
    "## Importing Libraries"
   ],
   "metadata": {
    "collapsed": false
   },
   "id": "ceddcc06a396c940"
  },
  {
   "cell_type": "code",
   "source": [
    "import pandas as pd\n",
    "import numpy as np\n",
    "import matplotlib.pyplot as plt\n",
    "import seaborn as sns\n",
    "from sklearn.model_selection import train_test_split\n",
    "from sklearn.preprocessing import StandardScaler\n",
    "from sklearn.metrics import accuracy_score, precision_score, recall_score, f1_score, confusion_matrix\n",
    "from sklearn.linear_model import LogisticRegression\n",
    "from sklearn.tree import DecisionTreeClassifier\n",
    "from sklearn.ensemble import RandomForestClassifier\n",
    "from sklearn.svm import SVC\n",
    "from sklearn.neighbors import KNeighborsClassifier\n",
    "from sklearn.naive_bayes import GaussianNB  \n",
    "from sklearn.neural_network import MLPClassifier\n",
    "from sklearn.model_selection import cross_val_score\n",
    "from sklearn.model_selection import GridSearchCV\n",
    "from sklearn.model_selection import RandomizedSearchCV\n",
    "from sklearn.metrics import classification_report\n",
    "from sklearn.metrics import roc_auc_score\n",
    "from sklearn.preprocessing import LabelEncoder\n",
    "from imblearn.over_sampling import SMOTE\n",
    "from sklearn.linear_model import LogisticRegression\n",
    "from sklearn.tree import DecisionTreeClassifier\n",
    "from sklearn.ensemble import RandomForestClassifier, GradientBoostingClassifier, AdaBoostClassifier\n",
    "from sklearn.svm import SVC\n",
    "from sklearn.neighbors import KNeighborsClassifier\n",
    "from sklearn.naive_bayes import GaussianNB\n",
    "from sklearn.neural_network import MLPClassifier\n",
    "from sklearn.discriminant_analysis import QuadraticDiscriminantAnalysis, LinearDiscriminantAnalysis\n",
    "from sklearn.metrics import accuracy_score, precision_score, recall_score, f1_score, roc_auc_score, confusion_matrix\n",
    "from sklearn.model_selection import cross_val_score\n",
    "from xgboost import XGBClassifier\n",
    "from lightgbm import LGBMClassifier\n",
    "from catboost import CatBoostClassifier\n"
   ],
   "metadata": {
    "collapsed": false,
    "ExecuteTime": {
     "end_time": "2024-02-22T08:38:37.448764Z",
     "start_time": "2024-02-22T08:38:37.075682800Z"
    }
   },
   "id": "d06fa724066a3aa5",
   "execution_count": 197,
   "outputs": []
  },
  {
   "cell_type": "code",
   "source": [],
   "metadata": {
    "collapsed": false,
    "ExecuteTime": {
     "end_time": "2024-02-22T08:38:37.511301300Z",
     "start_time": "2024-02-22T08:38:37.426766500Z"
    }
   },
   "id": "2c06c9c123c30a46",
   "execution_count": 197,
   "outputs": []
  },
  {
   "cell_type": "markdown",
   "source": [
    "## Data Loading"
   ],
   "metadata": {
    "collapsed": false
   },
   "id": "e2585a3f5db4a8b2"
  },
  {
   "cell_type": "code",
   "source": [
    "# Load the dataset\n",
    "stroke_data = pd.read_excel('../Datasets/StrokeData.xlsx')\n",
    "\n",
    "# Display the first 5 rows of the dataframe\n",
    "stroke_data.head()"
   ],
   "metadata": {
    "collapsed": false,
    "ExecuteTime": {
     "end_time": "2024-02-22T08:38:39.146193800Z",
     "start_time": "2024-02-22T08:38:37.498304900Z"
    }
   },
   "id": "ae201836ec577a6b",
   "execution_count": 198,
   "outputs": []
  },
  {
   "cell_type": "markdown",
   "source": [
    "## Data Exploration"
   ],
   "metadata": {
    "collapsed": false
   },
   "id": "ed6d9054d02a70e1"
  },
  {
   "cell_type": "code",
   "source": [
    "#Checking the shape of the dataset\n",
    "stroke_data.shape"
   ],
   "metadata": {
    "collapsed": false,
    "ExecuteTime": {
     "end_time": "2024-02-22T08:38:39.283736300Z",
     "start_time": "2024-02-22T08:38:39.119194100Z"
    }
   },
   "id": "4330980c69dff94f",
   "execution_count": 199,
   "outputs": []
  },
  {
   "cell_type": "code",
   "source": [
    "#Basic information about the dataset\n",
    "stroke_data.info()"
   ],
   "metadata": {
    "collapsed": false,
    "ExecuteTime": {
     "end_time": "2024-02-22T08:38:39.385272600Z",
     "start_time": "2024-02-22T08:38:39.148196100Z"
    }
   },
   "id": "379b6b445b80f712",
   "execution_count": 200,
   "outputs": []
  },
  {
   "cell_type": "code",
   "source": [
    "#Summary statistics of the dataset\n",
    "stroke_data.describe()"
   ],
   "metadata": {
    "collapsed": false,
    "ExecuteTime": {
     "end_time": "2024-02-22T08:38:39.469796600Z",
     "start_time": "2024-02-22T08:38:39.208723100Z"
    }
   },
   "id": "a1e59eab7b605d47",
   "execution_count": 201,
   "outputs": []
  },
  {
   "cell_type": "code",
   "source": [
    "#Checking for unique values in the dataset\n",
    "stroke_data.nunique()"
   ],
   "metadata": {
    "collapsed": false,
    "ExecuteTime": {
     "end_time": "2024-02-22T08:38:39.508335700Z",
     "start_time": "2024-02-22T08:38:39.291261700Z"
    }
   },
   "id": "83011931c9add117",
   "execution_count": 202,
   "outputs": []
  },
  {
   "cell_type": "code",
   "source": [
    "#Checking Data Types\n",
    "stroke_data.dtypes"
   ],
   "metadata": {
    "collapsed": false,
    "ExecuteTime": {
     "end_time": "2024-02-22T08:38:39.526331800Z",
     "start_time": "2024-02-22T08:38:39.319261600Z"
    }
   },
   "id": "cadb3627ce210597",
   "execution_count": 203,
   "outputs": []
  },
  {
   "cell_type": "code",
   "source": [
    "#Checking for missing values\n",
    "stroke_data.isnull().sum()"
   ],
   "metadata": {
    "collapsed": false,
    "ExecuteTime": {
     "end_time": "2024-02-22T08:38:39.567331800Z",
     "start_time": "2024-02-22T08:38:39.335263Z"
    }
   },
   "id": "75466e9b383ecd4e",
   "execution_count": 204,
   "outputs": []
  },
  {
   "cell_type": "markdown",
   "source": [
    "### Data Visualization"
   ],
   "metadata": {
    "collapsed": false
   },
   "id": "68ddde1d5d1a34be"
  },
  {
   "cell_type": "code",
   "source": [
    "# Set the aesthetic style of the plots\n",
    "sns.set_style(\"whitegrid\")"
   ],
   "metadata": {
    "collapsed": false,
    "ExecuteTime": {
     "end_time": "2024-02-22T08:38:39.591874300Z",
     "start_time": "2024-02-22T08:38:39.364261900Z"
    }
   },
   "id": "5155ff71ecfefefa",
   "execution_count": 205,
   "outputs": []
  },
  {
   "cell_type": "markdown",
   "source": [
    "#### Initial Data Exploration"
   ],
   "metadata": {
    "collapsed": false
   },
   "id": "ccf85ddd554c8d7b"
  },
  {
   "cell_type": "code",
   "source": [
    "import matplotlib.pyplot as plt\n",
    "import seaborn as sns\n",
    "\n",
    "# Set the aesthetic style of the plots\n",
    "sns.set_style(\"whitegrid\")\n",
    "\n",
    "# Prepare the figure layout\n",
    "fig, axes = plt.subplots(2, 2, figsize=(16, 12))\n",
    "fig.suptitle('Initial Data Exploration')\n",
    "\n",
    "# Distribution of Age\n",
    "sns.histplot(stroke_data['age'], bins=30, kde=True, ax=axes[0, 0])\n",
    "axes[0, 0].set_title('Distribution of Age')\n",
    "\n",
    "# Distribution of BMI\n",
    "sns.histplot(stroke_data[stroke_data['bmi'].notnull()]['bmi'], bins=30, kde=True, ax=axes[0, 1])\n",
    "axes[0, 1].set_title('Distribution of BMI')\n",
    "\n",
    "# Count of Strokes vs. Non-Strokes\n",
    "sns.countplot(x='stroke', data=stroke_data, ax=axes[1, 0])\n",
    "axes[1, 0].set_title('Count of Strokes vs. Non-Strokes')\n",
    "\n",
    "# Correlation Heatmap of Numerical Features\n",
    "# Calculate correlations\n",
    "corr = stroke_data[['age', 'hypertension', 'heart_disease', 'avg_glucose_level', 'bmi', 'stroke']].corr()\n",
    "sns.heatmap(corr, annot=True, cmap='coolwarm', ax=axes[1, 1])\n",
    "axes[1, 1].set_title('Correlation Heatmap')\n",
    "\n",
    "plt.tight_layout(rect=[0, 0.03, 1, 0.95])\n",
    "plt.show()\n"
   ],
   "metadata": {
    "collapsed": false,
    "ExecuteTime": {
     "end_time": "2024-02-22T08:38:53.677396800Z",
     "start_time": "2024-02-22T08:38:39.412788200Z"
    }
   },
   "id": "1dfabfc56d61625c",
   "execution_count": 206,
   "outputs": []
  },
  {
   "cell_type": "markdown",
   "source": [
    "## About the Dataset"
   ],
   "metadata": {
    "collapsed": false
   },
   "id": "355bb39bd03cb7c0"
  },
  {
   "cell_type": "markdown",
   "source": [
    "Distribution of Age: The age distribution is relatively broad, covering the entire spectrum from young to old, with a notable number of entries in the older age brackets. This is relevant since stroke risk typically increases with age.\n",
    "\n",
    "Distribution of BMI: The BMI distribution is roughly normal but with a right skew, indicating that some individuals have significantly higher BMI values. BMI is another crucial factor in stroke risk.\n",
    "\n",
    "Count of Strokes vs. Non-Strokes: It is evident that the dataset is imbalanced, with a significantly more significant number of non-stroke instances than stroke instances. This imbalance must be addressed during model training to avoid bias towards the majority class.\n",
    "\n",
    "Correlation Heatmap: The heatmap shows correlations between the features and the target variable (stroke). Notably, age shows a moderate correlation with stroke, which aligns with medical understanding. Other features like hypertension, heart disease, and avg_glucose level also show some level of correlation with stroke occurrence."
   ],
   "metadata": {
    "collapsed": false
   },
   "id": "15c6e80ed86f4092"
  },
  {
   "cell_type": "markdown",
   "source": [
    "### Attribute Information"
   ],
   "metadata": {
    "collapsed": false
   },
   "id": "f2e53266a30f5759"
  },
  {
   "cell_type": "markdown",
   "source": [
    "1. id: unique identifier\n",
    "2. gender: \"Male\", \"Female\" or \"Other\"\n",
    "3. age: age of the patient\n",
    "4. hypertension: 0 if the patient doesn't have hypertension, 1 if the patient has hypertension\n",
    "5. heart_disease: 0 if the patient doesn't have any heart diseases, 1 if the patient has a heart disease\n",
    "6. ever_married: \"No\" or \"Yes\"\n",
    "7. work_type: \"children\", \"Govt_jov\", \"Never_worked\", \"Private\" or \"Self-employed\"\n",
    "8. Residence_type: \"Rural\" or \"Urban\"\n",
    "9. avg_glucose_level: average glucose level in blood\n",
    "10. bmi: body mass index\n",
    "11. smoking_status: \"formerly smoked\", \"never smoked\", \"smokes\" or \"Unknown\"\n",
    "12. stroke: 1 if the patient had a stroke or 0 if not *Note: \"Unknown\" in smoking_status means that the information is unavailable for this patient"
   ],
   "metadata": {
    "collapsed": false
   },
   "id": "90268202b0d1c509"
  },
  {
   "cell_type": "markdown",
   "source": [
    "## Data Preprocessing"
   ],
   "metadata": {
    "collapsed": false
   },
   "id": "edb630adb2f7ca09"
  },
  {
   "cell_type": "markdown",
   "source": [
    "### Handling Missing Values"
   ],
   "metadata": {
    "collapsed": false
   },
   "id": "1af35da6306006c7"
  },
  {
   "cell_type": "code",
   "source": [
    "# Imputing missing values in 'bmi' based on the average BMI per gender\n",
    "stroke_data['bmi'] = stroke_data.groupby('gender')['bmi'].transform(lambda x: x.fillna(x.mean()))\n",
    "\n",
    "# Verifying the imputation\n",
    "stroke_data[stroke_data['bmi'].isnull()].head(), stroke_data.head()"
   ],
   "metadata": {
    "collapsed": false,
    "ExecuteTime": {
     "end_time": "2024-02-22T08:38:54.440851Z",
     "start_time": "2024-02-22T08:38:53.525947500Z"
    }
   },
   "id": "b03354af5636b3b2",
   "execution_count": 207,
   "outputs": []
  },
  {
   "cell_type": "markdown",
   "source": [
    "#### Check if BMI is imputed correctly"
   ],
   "metadata": {
    "collapsed": false
   },
   "id": "4b05d421e6813351"
  },
  {
   "cell_type": "code",
   "source": [
    "# Check if BMI is imputed correctly\n",
    "stroke_data.isnull().sum()"
   ],
   "metadata": {
    "collapsed": false,
    "ExecuteTime": {
     "end_time": "2024-02-22T08:38:54.443851700Z",
     "start_time": "2024-02-22T08:38:53.583956900Z"
    }
   },
   "id": "6e988b32cca9d063",
   "execution_count": 208,
   "outputs": []
  },
  {
   "cell_type": "markdown",
   "source": [
    "### Finding Outliers"
   ],
   "metadata": {
    "collapsed": false
   },
   "id": "d461549e3883f78d"
  },
  {
   "cell_type": "code",
   "source": [
    "# Prepare the figure layout\n",
    "fig, axes = plt.subplots(1, 3, figsize=(18, 5))\n",
    "fig.suptitle('Box Plots for Identifying Outliers')\n",
    "\n",
    "# Box plot for Age\n",
    "sns.boxplot(x=stroke_data['age'], ax=axes[0])\n",
    "axes[0].set_title('Age')\n",
    "\n",
    "# Box plot for Average Glucose Level\n",
    "sns.boxplot(x=stroke_data['avg_glucose_level'], ax=axes[1])\n",
    "axes[1].set_title('Average Glucose Level')\n",
    "\n",
    "# Box plot for BMI\n",
    "sns.boxplot(x=stroke_data[stroke_data['bmi'].notnull()]['bmi'], ax=axes[2])\n",
    "axes[2].set_title('BMI')\n",
    "\n",
    "plt.tight_layout(rect=[0, 0.03, 1, 0.95])\n",
    "plt.show()\n"
   ],
   "metadata": {
    "collapsed": false,
    "ExecuteTime": {
     "end_time": "2024-02-22T08:38:54.995649300Z",
     "start_time": "2024-02-22T08:38:53.618756700Z"
    }
   },
   "id": "986aa81eca8e0dde",
   "execution_count": 209,
   "outputs": []
  },
  {
   "cell_type": "markdown",
   "source": [
    "#### Age\n",
    "Outliers: There don't appear to be any extreme outliers, which is expected as age is a naturally ranging variable in a population.\n",
    "Context: If there are values beyond the expected age range (e.g., >100 years), verify if they are accurate. Ages that fall within a typical human lifespan, even if high, are plausible and should likely be retained.\n",
    "#### Average Glucose Level\n",
    "Outliers: There are many points beyond the upper whisker, which may indicate high glucose levels.\n",
    "Context: Elevated glucose levels can be indicative of medical conditions like diabetes, which are risk factors for stroke. Unless these values are impossible (e.g., due to data entry errors), they may represent important risk factors and should be kept.\n",
    "#### BMI\n",
    "Outliers: Similar to glucose levels, there are several points beyond the upper whisker, indicating very high BMI values.\n",
    "Context: While high BMI values could represent cases of extreme obesity, they are clinically plausible and relevant for stroke prediction. However, verify if any BMI values are beyond physiological feasibility (e.g., BMI > 60 could be a potential data entry error)."
   ],
   "metadata": {
    "collapsed": false
   },
   "id": "a782b46acde9737e"
  },
  {
   "cell_type": "markdown",
   "source": [
    "### Encoding Categorical Variables"
   ],
   "metadata": {
    "collapsed": false
   },
   "id": "b35f5cda55acae42"
  },
  {
   "cell_type": "code",
   "source": [
    "# One-hot encoding for categorical variables\n",
    "categorical_columns = ['gender', 'ever_married', 'work_type', 'Residence_type', 'smoking_status']"
   ],
   "metadata": {
    "collapsed": false,
    "ExecuteTime": {
     "end_time": "2024-02-22T08:38:54.998647Z",
     "start_time": "2024-02-22T08:38:54.920523800Z"
    }
   },
   "id": "6d51b625272ab4ce",
   "execution_count": 210,
   "outputs": []
  },
  {
   "cell_type": "code",
   "source": [
    "# Encoding categorical variables using Label Encoding\n",
    "label_encoder = LabelEncoder()\n",
    "for column in categorical_columns:\n",
    "    stroke_data[column] = label_encoder.fit_transform(stroke_data[column])\n",
    "\n",
    "# Display the updated DataFrame after imputation and encoding\n",
    "stroke_data.head()"
   ],
   "metadata": {
    "collapsed": false,
    "ExecuteTime": {
     "end_time": "2024-02-22T08:38:55.399434900Z",
     "start_time": "2024-02-22T08:38:54.941521100Z"
    }
   },
   "id": "7f729b3ff08696ab",
   "execution_count": 211,
   "outputs": []
  },
  {
   "cell_type": "markdown",
   "source": [
    "### Normalizing Numerical Features"
   ],
   "metadata": {
    "collapsed": false
   },
   "id": "51d530b069ad17da"
  },
  {
   "cell_type": "code",
   "source": [
    "# Normalizing numerical features\n",
    "scaler = StandardScaler()\n",
    "numerical_columns = ['age', 'avg_glucose_level', 'bmi']\n",
    "stroke_data[numerical_columns] = scaler.fit_transform(stroke_data[numerical_columns])"
   ],
   "metadata": {
    "collapsed": false,
    "ExecuteTime": {
     "end_time": "2024-02-22T08:38:55.424429100Z",
     "start_time": "2024-02-22T08:38:55.013735100Z"
    }
   },
   "id": "e1090848e50d41ed",
   "execution_count": 212,
   "outputs": []
  },
  {
   "cell_type": "markdown",
   "source": [
    "### Splitting the Data and Applying SMOTE"
   ],
   "metadata": {
    "collapsed": false
   },
   "id": "720bb2a29d3985a5"
  },
  {
   "cell_type": "code",
   "source": [
    "# Define your features and target variable\n",
    "X = stroke_data.drop(['stroke', 'id'], axis=1)  # Dropping 'id' as it's not a relevant feature\n",
    "y = stroke_data['stroke']\n",
    "\n",
    "# Split your data into training and testing sets\n",
    "X_train, X_test, y_train, y_test = train_test_split(X, y, test_size=0.2, random_state=42)\n",
    "\n",
    "# Apply SMOTE\n",
    "sm = SMOTE(random_state=42)\n",
    "X_train_res, y_train_res = sm.fit_resample(X_train, y_train)\n",
    "\n",
    "# Verify the class distribution after applying SMOTE\n",
    "print('After OverSampling, the shape of train_X: {}'.format(X_train_res.shape))\n",
    "print('After OverSampling, the shape of train_y: {} \\n'.format(y_train_res.shape))\n",
    "\n",
    "print(\"After OverSampling, counts of label '1': {}\".format(sum(y_train_res==1)))\n",
    "print(\"After OverSampling, counts of label '0': {}\".format(sum(y_train_res==0)))"
   ],
   "metadata": {
    "collapsed": false,
    "ExecuteTime": {
     "end_time": "2024-02-22T08:38:55.547312600Z",
     "start_time": "2024-02-22T08:38:55.066463400Z"
    }
   },
   "id": "b67d2bce6f72cca9",
   "execution_count": 213,
   "outputs": []
  },
  {
   "cell_type": "code",
   "source": [
    "# Convert the resampled target data to a DataFrame for easier plotting\n",
    "y_train_res_df = pd.DataFrame(y_train_res, columns=['stroke'])\n",
    "\n",
    "# Plot the distribution of the target variable after SMOTE\n",
    "sns.countplot(x='stroke', data=y_train_res_df)\n",
    "plt.title('Class Distribution after SMOTE')\n",
    "plt.show()"
   ],
   "metadata": {
    "collapsed": false,
    "ExecuteTime": {
     "end_time": "2024-02-22T08:38:56.051646200Z",
     "start_time": "2024-02-22T08:38:55.202002700Z"
    }
   },
   "id": "a9737735a9b8050f",
   "execution_count": 214,
   "outputs": []
  },
  {
   "cell_type": "code",
   "source": [
    "def evaluate_model(model, X_train, y_train, X_test, y_test):\n",
    "    model.fit(X_train, y_train)\n",
    "    y_pred = model.predict(X_test)\n",
    "    accuracy = accuracy_score(y_test, y_pred)\n",
    "    precision = precision_score(y_test, y_pred)\n",
    "    recall = recall_score(y_test, y_pred)\n",
    "    f1 = f1_score(y_test, y_pred)\n",
    "    roc_auc = roc_auc_score(y_test, y_pred)\n",
    "    cv_score = cross_val_score(model, X_train, y_train, cv=5).mean()\n",
    "    \n",
    "    print(f\"Accuracy: {accuracy}\")\n",
    "    print(f\"Precision: {precision}\")\n",
    "    print(f\"Recall: {recall}\")\n",
    "    print(f\"F1 Score: {f1}\")\n",
    "    print(f\"ROC-AUC Score: {roc_auc}\")\n",
    "    print(f\"Cross-validation Score: {cv_score}\")\n",
    "    \n",
    "    cm = confusion_matrix(y_test, y_pred)\n",
    "    sns.heatmap(cm, annot=True, fmt='d')\n",
    "    plt.title('Confusion Matrix')\n",
    "    plt.show()"
   ],
   "metadata": {
    "collapsed": false,
    "ExecuteTime": {
     "end_time": "2024-02-22T08:38:56.066649700Z",
     "start_time": "2024-02-22T08:38:55.722572200Z"
    }
   },
   "id": "40713f304530ce01",
   "execution_count": 215,
   "outputs": []
  },
  {
   "cell_type": "markdown",
   "source": [
    "## Model Building"
   ],
   "metadata": {
    "collapsed": false
   },
   "id": "5bc49375b13397e0"
  },
  {
   "cell_type": "markdown",
   "source": [
    "### Logistic Regression"
   ],
   "metadata": {
    "collapsed": false
   },
   "id": "dd2954a134531b27"
  },
  {
   "cell_type": "code",
   "source": [
    "print(\"Logistic Regression:\")\n",
    "lr = LogisticRegression()\n",
    "evaluate_model(lr, X_train_res, y_train_res, X_test, y_test)"
   ],
   "metadata": {
    "collapsed": false,
    "ExecuteTime": {
     "end_time": "2024-02-22T08:38:58.871000100Z",
     "start_time": "2024-02-22T08:38:55.745576500Z"
    }
   },
   "id": "48ee496e0418414e",
   "execution_count": 216,
   "outputs": []
  },
  {
   "cell_type": "markdown",
   "source": [
    "Logistic Regression: The model has a decent accuracy of 76.5% and a high recall of 74.2%, indicating that it is good at identifying positive cases. However, the precision is quite low, meaning that the model has a high false positive rate. The F1 score, which is the harmonic mean of precision and recall, is also relatively low due to the low precision."
   ],
   "metadata": {
    "collapsed": false
   },
   "id": "7124e358f4f21d82"
  },
  {
   "cell_type": "markdown",
   "source": [
    "### Decision Tree"
   ],
   "metadata": {
    "collapsed": false
   },
   "id": "85c9214f263e6523"
  },
  {
   "cell_type": "code",
   "source": [
    "print(\"Decision Trees:\")\n",
    "dt = DecisionTreeClassifier()\n",
    "evaluate_model(dt, X_train_res, y_train_res, X_test, y_test)"
   ],
   "metadata": {
    "collapsed": false,
    "ExecuteTime": {
     "end_time": "2024-02-22T08:38:59.980930Z",
     "start_time": "2024-02-22T08:38:58.856999600Z"
    }
   },
   "id": "526d7618c27cb7d",
   "execution_count": 217,
   "outputs": []
  },
  {
   "cell_type": "markdown",
   "source": [
    "Decision Trees: The decision tree model has a higher accuracy than logistic regression (83.8%), but its recall is significantly lower (40.3%), indicating that it is not as good at identifying positive cases. The precision is similar to logistic regression, and the F1 score is slightly higher."
   ],
   "metadata": {
    "collapsed": false
   },
   "id": "2208085574eb96e7"
  },
  {
   "cell_type": "markdown",
   "source": [
    "### Random Forest"
   ],
   "metadata": {
    "collapsed": false
   },
   "id": "33fd944f587efcbc"
  },
  {
   "cell_type": "code",
   "source": [
    "print(\"Random Forest:\")\n",
    "rf = RandomForestClassifier()\n",
    "evaluate_model(rf, X_train_res, y_train_res, X_test, y_test)"
   ],
   "metadata": {
    "collapsed": false,
    "ExecuteTime": {
     "end_time": "2024-02-22T08:39:24.315420300Z",
     "start_time": "2024-02-22T08:38:59.973931900Z"
    }
   },
   "id": "9651809a6e76b1fb",
   "execution_count": 218,
   "outputs": []
  },
  {
   "cell_type": "markdown",
   "source": [
    "Random Forest: The random forest model has a high accuracy of 87.8%, but its recall is only 20.9%, indicating that it is not very good at identifying positive cases. The precision is slightly lower than the decision tree model, and the F1 score is also lower"
   ],
   "metadata": {
    "collapsed": false
   },
   "id": "c0b3368b9e963c5f"
  },
  {
   "cell_type": "markdown",
   "source": [
    "### Gradient Boosting Machine (GBM)"
   ],
   "metadata": {
    "collapsed": false
   },
   "id": "4e428d1a6d2e8a0a"
  },
  {
   "cell_type": "code",
   "source": [
    "print(\"Gradient Boosting Machines:\")\n",
    "gbm = GradientBoostingClassifier()\n",
    "evaluate_model(gbm, X_train_res, y_train_res, X_test, y_test)"
   ],
   "metadata": {
    "collapsed": false,
    "ExecuteTime": {
     "end_time": "2024-02-22T08:39:36.364061800Z",
     "start_time": "2024-02-22T08:39:24.310421500Z"
    }
   },
   "id": "9c2c753a4172f285",
   "execution_count": 219,
   "outputs": []
  },
  {
   "cell_type": "markdown",
   "source": [
    "Gradient Boosting Machines (GBM): The GBM model has an accuracy of 80.4% and a high recall of 58.1%, making it better at identifying positive cases than the decision tree and random forest models. The precision is similar to the other models, and the F1 score is higher due to the higher recall."
   ],
   "metadata": {
    "collapsed": false
   },
   "id": "ef0130dd72f4f25f"
  },
  {
   "cell_type": "markdown",
   "source": [
    "### XGBoost"
   ],
   "metadata": {
    "collapsed": false
   },
   "id": "89f2ea641a182bc2"
  },
  {
   "cell_type": "code",
   "source": [
    "print(\"XGBoost:\")\n",
    "xgb = XGBClassifier()\n",
    "evaluate_model(xgb, X_train_res, y_train_res, X_test, y_test)"
   ],
   "metadata": {
    "collapsed": false,
    "ExecuteTime": {
     "end_time": "2024-02-22T08:39:37.862536500Z",
     "start_time": "2024-02-22T08:39:36.364061800Z"
    }
   },
   "id": "a4774442581d41f5",
   "execution_count": 220,
   "outputs": []
  },
  {
   "cell_type": "markdown",
   "source": [
    "XGBoost: The XGBoost model has a high accuracy of 87.3%, but its recall is only 16.1%, indicating that it is not very good at identifying positive cases. The precision is lower than the other models, and the F1 score is also lower."
   ],
   "metadata": {
    "collapsed": false
   },
   "id": "b2f2a28c1287c6d8"
  },
  {
   "cell_type": "markdown",
   "source": [
    "### LightGBM"
   ],
   "metadata": {
    "collapsed": false
   },
   "id": "d9fdd075bf11ff84"
  },
  {
   "cell_type": "code",
   "source": [
    "print(\"LightGBM:\")\n",
    "lgbm = LGBMClassifier()\n",
    "evaluate_model(lgbm, X_train_res, y_train_res, X_test, y_test)"
   ],
   "metadata": {
    "collapsed": false,
    "ExecuteTime": {
     "end_time": "2024-02-22T08:39:39.038826600Z",
     "start_time": "2024-02-22T08:39:37.863463600Z"
    }
   },
   "id": "ef5bb8c2ecc1cce6",
   "execution_count": 221,
   "outputs": []
  },
  {
   "cell_type": "markdown",
   "source": [
    "LightGBM: The LightGBM model has a high accuracy of 91.2%, but its recall is only 14.5%, indicating that it is not very good at identifying positive cases. The precision is higher than XGBoost, but the F1 score is still relatively low."
   ],
   "metadata": {
    "collapsed": false
   },
   "id": "16d8d66e8365e4ba"
  },
  {
   "cell_type": "markdown",
   "source": [
    "### CatBoost"
   ],
   "metadata": {
    "collapsed": false
   },
   "id": "da8ad7243e9b1ab1"
  },
  {
   "cell_type": "code",
   "source": [
    "print(\"CatBoost:\")\n",
    "cat = CatBoostClassifier(verbose=0)\n",
    "evaluate_model(cat, X_train_res, y_train_res, X_test, y_test)"
   ],
   "metadata": {
    "collapsed": false,
    "ExecuteTime": {
     "end_time": "2024-02-22T08:40:27.405217200Z",
     "start_time": "2024-02-22T08:39:39.039830400Z"
    }
   },
   "id": "1f88c43c933e3cc5",
   "execution_count": 222,
   "outputs": []
  },
  {
   "cell_type": "markdown",
   "source": [
    "CatBoost: The CatBoost model has a high accuracy of 89.1%, but its recall is only 9.7%, indicating that it is not very good at identifying positive cases. The precision is lower than LightGBM, and the F1 score is also lower."
   ],
   "metadata": {
    "collapsed": false
   },
   "id": "c2452007bd7389c7"
  },
  {
   "cell_type": "markdown",
   "source": [
    "### Support Vector Machine (SVM)"
   ],
   "metadata": {
    "collapsed": false
   },
   "id": "de4cefc61437a898"
  },
  {
   "cell_type": "code",
   "source": [
    "print(\"Support Vector Machines:\")\n",
    "svc = SVC()\n",
    "evaluate_model(svc, X_train_res, y_train_res, X_test, y_test)"
   ],
   "metadata": {
    "collapsed": false,
    "ExecuteTime": {
     "end_time": "2024-02-22T08:40:46.331798400Z",
     "start_time": "2024-02-22T08:40:27.291670900Z"
    }
   },
   "id": "4dad18ac0c2814cf",
   "execution_count": 223,
   "outputs": []
  },
  {
   "cell_type": "markdown",
   "source": [
    "Support Vector Machines (SVM): The SVM model has a decent accuracy of 76.0% and a high recall of 58.1%, making it good at identifying positive cases. However, the precision is quite low, meaning that the model has a high false positive rate. The F1 score is relatively low due to the low precision."
   ],
   "metadata": {
    "collapsed": false
   },
   "id": "3f942738454f9dbd"
  },
  {
   "cell_type": "markdown",
   "source": [
    "### k-Nearest Neighbors (k-NN)"
   ],
   "metadata": {
    "collapsed": false
   },
   "id": "50aef0029c434436"
  },
  {
   "cell_type": "code",
   "source": [
    "print(\"k-Nearest Neighbors:\")\n",
    "knn = KNeighborsClassifier()\n",
    "evaluate_model(knn, X_train_res, y_train_res, X_test, y_test)"
   ],
   "metadata": {
    "collapsed": false,
    "ExecuteTime": {
     "end_time": "2024-02-22T08:40:49.917856700Z",
     "start_time": "2024-02-22T08:40:46.345188400Z"
    }
   },
   "id": "964ef1676c641ec9",
   "execution_count": 224,
   "outputs": []
  },
  {
   "cell_type": "markdown",
   "source": [
    "k-Nearest Neighbors (k-NN): The k-NN model has a decent accuracy of 78.6% and a high recall of 50.0%, making it good at identifying positive cases. However, the precision is quite low, meaning that the model has a high false positive rate. The F1 score is relatively low due to the low precision."
   ],
   "metadata": {
    "collapsed": false
   },
   "id": "983d976e97bec364"
  },
  {
   "cell_type": "markdown",
   "source": [
    "### Naive Bayes (GaussianNB)"
   ],
   "metadata": {
    "collapsed": false
   },
   "id": "f3c0d6c474ae9494"
  },
  {
   "cell_type": "code",
   "source": [
    "print(\"Naive Bayes:\")\n",
    "nb = GaussianNB()\n",
    "evaluate_model(nb, X_train_res, y_train_res, X_test, y_test)"
   ],
   "metadata": {
    "collapsed": false,
    "ExecuteTime": {
     "end_time": "2024-02-22T08:40:51.057654500Z",
     "start_time": "2024-02-22T08:40:49.937858700Z"
    }
   },
   "id": "7d530a86a7c57125",
   "execution_count": 225,
   "outputs": []
  },
  {
   "cell_type": "markdown",
   "source": [
    "Naive Bayes: The Naive Bayes model has a lower accuracy of 68.4% but a very high recall of 88.7%, making it excellent at identifying positive cases. However, the precision is quite low, meaning that the model has a high false positive rate. The F1 score is relatively low due to the low precision."
   ],
   "metadata": {
    "collapsed": false
   },
   "id": "5ce97be5362a320"
  },
  {
   "cell_type": "markdown",
   "source": [
    "### Neural Network (MLP)"
   ],
   "metadata": {
    "collapsed": false
   },
   "id": "a9532c2e965f82ac"
  },
  {
   "cell_type": "code",
   "source": [
    "print(\"Neural Networks:\")\n",
    "nn = MLPClassifier()\n",
    "evaluate_model(nn, X_train_res, y_train_res, X_test, y_test)"
   ],
   "metadata": {
    "collapsed": false,
    "ExecuteTime": {
     "end_time": "2024-02-22T08:42:03.915683500Z",
     "start_time": "2024-02-22T08:40:51.060654700Z"
    }
   },
   "id": "14cc064f503ac3c3",
   "execution_count": 226,
   "outputs": []
  },
  {
   "cell_type": "markdown",
   "source": [
    " Neural Networks (Deep Learning): The neural network model has a decent accuracy of 78.6% and a high recall of 48.4%, making it good at identifying positive cases. However, the precision is quite low, meaning that the model has a high false positive rate. The F1 score is relatively low due to the low precision."
   ],
   "metadata": {
    "collapsed": false
   },
   "id": "39cd0a1265e337be"
  },
  {
   "cell_type": "markdown",
   "source": [
    "### AdaBoost"
   ],
   "metadata": {
    "collapsed": false
   },
   "id": "84538eb3c189fd88"
  },
  {
   "cell_type": "code",
   "source": [
    "print(\"AdaBoost:\")\n",
    "ab = AdaBoostClassifier()\n",
    "evaluate_model(ab, X_train_res, y_train_res, X_test, y_test)"
   ],
   "metadata": {
    "collapsed": false,
    "ExecuteTime": {
     "end_time": "2024-02-22T08:42:04.174429200Z",
     "start_time": "2024-02-22T08:41:55.920552200Z"
    }
   },
   "id": "7cd52d66bc301b90",
   "execution_count": 227,
   "outputs": []
  },
  {
   "cell_type": "markdown",
   "source": [
    "AdaBoost: The AdaBoost model has a decent accuracy of 76.6% and a very high recall of 69.4%, making it excellent at identifying positive cases. However, the precision is quite low, meaning that the model has a high false positive rate. The F1 score is relatively low due to the low precision."
   ],
   "metadata": {
    "collapsed": false
   },
   "id": "8dbf51c1ab46d99e"
  },
  {
   "cell_type": "markdown",
   "source": [
    "### Quadratic Discriminant Analysis (QDA)"
   ],
   "metadata": {
    "collapsed": false
   },
   "id": "b1b933dddbfe3094"
  },
  {
   "cell_type": "code",
   "source": [
    "print(\"Quadratic Discriminant Analysis:\")\n",
    "qda = QuadraticDiscriminantAnalysis()\n",
    "evaluate_model(qda, X_train_res, y_train_res, X_test, y_test)"
   ],
   "metadata": {
    "collapsed": false,
    "ExecuteTime": {
     "end_time": "2024-02-22T08:42:04.200513500Z",
     "start_time": "2024-02-22T08:42:00.190416200Z"
    }
   },
   "id": "bf0e241091dade0f",
   "execution_count": 228,
   "outputs": []
  },
  {
   "cell_type": "markdown",
   "source": [
    "Quadratic Discriminant Analysis (QDA): The QDA model has a lower accuracy of 72.2% but a very high recall of 80.6%, making it excellent at identifying positive cases. However, the precision is quite low, meaning that the model has a high false positive rate. The F1 score is relatively low due to the low precision."
   ],
   "metadata": {
    "collapsed": false
   },
   "id": "2381f87299c91f97"
  },
  {
   "cell_type": "markdown",
   "source": [
    "### Liner Discriminant Analysis (LDA)"
   ],
   "metadata": {
    "collapsed": false
   },
   "id": "db027a09d0829276"
  },
  {
   "cell_type": "code",
   "source": [
    "print(\"Linear Discriminant Analysis:\")\n",
    "lda = LinearDiscriminantAnalysis()\n",
    "evaluate_model(lda, X_train_res, y_train_res, X_test, y_test)"
   ],
   "metadata": {
    "collapsed": false,
    "ExecuteTime": {
     "end_time": "2024-02-22T08:42:04.204431900Z",
     "start_time": "2024-02-22T08:42:00.456028800Z"
    }
   },
   "id": "7072c7570f044495",
   "execution_count": 229,
   "outputs": []
  },
  {
   "cell_type": "markdown",
   "source": [
    "Linear Discriminant Analysis (LDA): The LDA model has a decent accuracy of 74.6% and a very high recall of 74.2%, making it excellent at identifying positive cases. However, the precision is quite low, meaning that the model has a high false positive rate. The F1 score is relatively low due to the low precision."
   ],
   "metadata": {
    "collapsed": false
   },
   "id": "a116e4dc3f2391a1"
  },
  {
   "cell_type": "markdown",
   "source": [
    "In summary, while some models have high accuracy, their recall is quite low, indicating that they are not very good at identifying positive cases. Models with high recall, such as Naive Bayes, AdaBoost, QDA, and LDA, have low precision, indicating a high false positive rate. This trade-off between precision and recall is a common challenge in machine learning and depends on the specific requirements of the task. For example, in a medical context, a high recall might be more important to ensure that all positive cases are identified, even if it means more false positives.   \n",
    "\n"
   ],
   "metadata": {
    "collapsed": false
   },
   "id": "f0e069a743c2b1cf"
  }
 ],
 "metadata": {
  "kernelspec": {
   "display_name": "Python 3",
   "language": "python",
   "name": "python3"
  },
  "language_info": {
   "codemirror_mode": {
    "name": "ipython",
    "version": 2
   },
   "file_extension": ".py",
   "mimetype": "text/x-python",
   "name": "python",
   "nbconvert_exporter": "python",
   "pygments_lexer": "ipython2",
   "version": "2.7.6"
  }
 },
 "nbformat": 4,
 "nbformat_minor": 5
}
