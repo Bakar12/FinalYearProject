{
 "cells": [
  {
   "cell_type": "markdown",
   "id": "2db9bf5d29a4a88b",
   "metadata": {
    "collapsed": false
   },
   "source": "# Multiple DiseaseModel Comparison"
  },
  {
   "cell_type": "markdown",
   "id": "6c1c1eeec3c6ec2e",
   "metadata": {
    "collapsed": false
   },
   "source": [
    "This notebook aims to explore, preprocess, and model a dataset to predict the likelihood of multiple. We will compare multiple algorithms to find the best performer based on accuracy, precision, recall, and F1 score.\n",
    "The dataset used in this notebook is from Kaggle and can be found [here](https://www.kaggle.com/datasets/walterconway/covid-flu-cold-symptoms)."
   ]
  },
  {
   "cell_type": "markdown",
   "id": "b7fca87db570f9a7",
   "metadata": {
    "collapsed": false
   },
   "source": [
    "## Introduction"
   ]
  },
  {
   "cell_type": "markdown",
   "id": "3d7daf23669c0228",
   "metadata": {
    "collapsed": false
   },
   "source": "Covid, Allergy, Cold and Flu are common diseases that can be easily confused due to their similar symptoms. This notebook aims to predict the likelihood of a patient having Covid, Allergy, Cold or Flu based on their symptoms. We will compare the performance of multiple algorithms to find the best performer based on accuracy, precision, recall, and F1 score."
  },
  {
   "cell_type": "markdown",
   "id": "ceddcc06a396c940",
   "metadata": {
    "collapsed": false
   },
   "source": [
    "## Importing Libraries"
   ]
  },
  {
   "cell_type": "code",
   "id": "d06fa724066a3aa5",
   "metadata": {
    "collapsed": false,
    "ExecuteTime": {
     "end_time": "2024-04-29T07:48:17.363866Z",
     "start_time": "2024-04-29T07:48:17.348268Z"
    }
   },
   "source": [
    "import numpy as np\n",
    "import pandas as pd\n",
    "import matplotlib.pyplot as plt\n",
    "import seaborn as sns\n",
    "from sklearn.tree import DecisionTreeClassifier\n",
    "from sklearn.ensemble import RandomForestClassifier\n",
    "from sklearn.svm import SVC\n",
    "from sklearn.naive_bayes import GaussianNB\n",
    "from sklearn.metrics import accuracy_score, precision_score, recall_score, f1_score, roc_auc_score, confusion_matrix\n",
    "from sklearn.model_selection import cross_val_score\n",
    "from sklearn.linear_model import LogisticRegression\n",
    "from sklearn.model_selection import RandomizedSearchCV\n",
    "from sklearn.preprocessing import LabelEncoder\n",
    "from imblearn.over_sampling import SMOTE\n",
    "from sklearn.preprocessing import LabelEncoder\n",
    "\n"
   ],
   "outputs": [],
   "execution_count": 118
  },
  {
   "cell_type": "markdown",
   "id": "e2585a3f5db4a8b2",
   "metadata": {
    "collapsed": false
   },
   "source": [
    "## Data Loading"
   ]
  },
  {
   "cell_type": "code",
   "id": "ae201836ec577a6b",
   "metadata": {
    "collapsed": false,
    "ExecuteTime": {
     "end_time": "2024-04-29T07:48:17.794693Z",
     "start_time": "2024-04-29T07:48:17.611073Z"
    }
   },
   "source": [
    "# Load the dataset for Training\n",
    "multiple_data_train = pd.read_csv('../Datasets/COVID-FLU-ALLERGY.csv')\n",
    "\n",
    "# Display the first 5 rows of the dataframe\n",
    "multiple_data_train.head()"
   ],
   "outputs": [
    {
     "data": {
      "text/plain": [
       "   COUGH  MUSCLE_ACHES  TIREDNESS  SORE_THROAT  RUNNY_NOSE  STUFFY_NOSE  \\\n",
       "0      0             0          1            0           1            0   \n",
       "1      0             0          1            0           0            0   \n",
       "2      0             1          1            1           0            0   \n",
       "3      0             0          0            1           1            0   \n",
       "4      0             0          1            0           1            0   \n",
       "\n",
       "   FEVER  NAUSEA  VOMITING  DIARRHEA  ...  DIFFICULTY_BREATHING  \\\n",
       "0      0       0         0         0  ...                     0   \n",
       "1      0       0         0         0  ...                     0   \n",
       "2      0       0         0         0  ...                     0   \n",
       "3      0       0         0         0  ...                     0   \n",
       "4      0       0         0         0  ...                     0   \n",
       "\n",
       "   LOSS_OF_TASTE  LOSS_OF_SMELL  ITCHY_NOSE  ITCHY_EYES  ITCHY_MOUTH  \\\n",
       "0              1              0           1           0            0   \n",
       "1              1              0           1           0            1   \n",
       "2              1              0           1           0            0   \n",
       "3              1              1           0           0            1   \n",
       "4              1              1           0           1            0   \n",
       "\n",
       "   ITCHY_INNER_EAR  SNEEZING  PINK_EYE     TYPE  \n",
       "0                1         0         1  ALLERGY  \n",
       "1                1         1         1  ALLERGY  \n",
       "2                0         0         1  ALLERGY  \n",
       "3                0         1         1  ALLERGY  \n",
       "4                1         1         1  ALLERGY  \n",
       "\n",
       "[5 rows x 21 columns]"
      ],
      "text/html": [
       "<div>\n",
       "<style scoped>\n",
       "    .dataframe tbody tr th:only-of-type {\n",
       "        vertical-align: middle;\n",
       "    }\n",
       "\n",
       "    .dataframe tbody tr th {\n",
       "        vertical-align: top;\n",
       "    }\n",
       "\n",
       "    .dataframe thead th {\n",
       "        text-align: right;\n",
       "    }\n",
       "</style>\n",
       "<table border=\"1\" class=\"dataframe\">\n",
       "  <thead>\n",
       "    <tr style=\"text-align: right;\">\n",
       "      <th></th>\n",
       "      <th>COUGH</th>\n",
       "      <th>MUSCLE_ACHES</th>\n",
       "      <th>TIREDNESS</th>\n",
       "      <th>SORE_THROAT</th>\n",
       "      <th>RUNNY_NOSE</th>\n",
       "      <th>STUFFY_NOSE</th>\n",
       "      <th>FEVER</th>\n",
       "      <th>NAUSEA</th>\n",
       "      <th>VOMITING</th>\n",
       "      <th>DIARRHEA</th>\n",
       "      <th>...</th>\n",
       "      <th>DIFFICULTY_BREATHING</th>\n",
       "      <th>LOSS_OF_TASTE</th>\n",
       "      <th>LOSS_OF_SMELL</th>\n",
       "      <th>ITCHY_NOSE</th>\n",
       "      <th>ITCHY_EYES</th>\n",
       "      <th>ITCHY_MOUTH</th>\n",
       "      <th>ITCHY_INNER_EAR</th>\n",
       "      <th>SNEEZING</th>\n",
       "      <th>PINK_EYE</th>\n",
       "      <th>TYPE</th>\n",
       "    </tr>\n",
       "  </thead>\n",
       "  <tbody>\n",
       "    <tr>\n",
       "      <th>0</th>\n",
       "      <td>0</td>\n",
       "      <td>0</td>\n",
       "      <td>1</td>\n",
       "      <td>0</td>\n",
       "      <td>1</td>\n",
       "      <td>0</td>\n",
       "      <td>0</td>\n",
       "      <td>0</td>\n",
       "      <td>0</td>\n",
       "      <td>0</td>\n",
       "      <td>...</td>\n",
       "      <td>0</td>\n",
       "      <td>1</td>\n",
       "      <td>0</td>\n",
       "      <td>1</td>\n",
       "      <td>0</td>\n",
       "      <td>0</td>\n",
       "      <td>1</td>\n",
       "      <td>0</td>\n",
       "      <td>1</td>\n",
       "      <td>ALLERGY</td>\n",
       "    </tr>\n",
       "    <tr>\n",
       "      <th>1</th>\n",
       "      <td>0</td>\n",
       "      <td>0</td>\n",
       "      <td>1</td>\n",
       "      <td>0</td>\n",
       "      <td>0</td>\n",
       "      <td>0</td>\n",
       "      <td>0</td>\n",
       "      <td>0</td>\n",
       "      <td>0</td>\n",
       "      <td>0</td>\n",
       "      <td>...</td>\n",
       "      <td>0</td>\n",
       "      <td>1</td>\n",
       "      <td>0</td>\n",
       "      <td>1</td>\n",
       "      <td>0</td>\n",
       "      <td>1</td>\n",
       "      <td>1</td>\n",
       "      <td>1</td>\n",
       "      <td>1</td>\n",
       "      <td>ALLERGY</td>\n",
       "    </tr>\n",
       "    <tr>\n",
       "      <th>2</th>\n",
       "      <td>0</td>\n",
       "      <td>1</td>\n",
       "      <td>1</td>\n",
       "      <td>1</td>\n",
       "      <td>0</td>\n",
       "      <td>0</td>\n",
       "      <td>0</td>\n",
       "      <td>0</td>\n",
       "      <td>0</td>\n",
       "      <td>0</td>\n",
       "      <td>...</td>\n",
       "      <td>0</td>\n",
       "      <td>1</td>\n",
       "      <td>0</td>\n",
       "      <td>1</td>\n",
       "      <td>0</td>\n",
       "      <td>0</td>\n",
       "      <td>0</td>\n",
       "      <td>0</td>\n",
       "      <td>1</td>\n",
       "      <td>ALLERGY</td>\n",
       "    </tr>\n",
       "    <tr>\n",
       "      <th>3</th>\n",
       "      <td>0</td>\n",
       "      <td>0</td>\n",
       "      <td>0</td>\n",
       "      <td>1</td>\n",
       "      <td>1</td>\n",
       "      <td>0</td>\n",
       "      <td>0</td>\n",
       "      <td>0</td>\n",
       "      <td>0</td>\n",
       "      <td>0</td>\n",
       "      <td>...</td>\n",
       "      <td>0</td>\n",
       "      <td>1</td>\n",
       "      <td>1</td>\n",
       "      <td>0</td>\n",
       "      <td>0</td>\n",
       "      <td>1</td>\n",
       "      <td>0</td>\n",
       "      <td>1</td>\n",
       "      <td>1</td>\n",
       "      <td>ALLERGY</td>\n",
       "    </tr>\n",
       "    <tr>\n",
       "      <th>4</th>\n",
       "      <td>0</td>\n",
       "      <td>0</td>\n",
       "      <td>1</td>\n",
       "      <td>0</td>\n",
       "      <td>1</td>\n",
       "      <td>0</td>\n",
       "      <td>0</td>\n",
       "      <td>0</td>\n",
       "      <td>0</td>\n",
       "      <td>0</td>\n",
       "      <td>...</td>\n",
       "      <td>0</td>\n",
       "      <td>1</td>\n",
       "      <td>1</td>\n",
       "      <td>0</td>\n",
       "      <td>1</td>\n",
       "      <td>0</td>\n",
       "      <td>1</td>\n",
       "      <td>1</td>\n",
       "      <td>1</td>\n",
       "      <td>ALLERGY</td>\n",
       "    </tr>\n",
       "  </tbody>\n",
       "</table>\n",
       "<p>5 rows × 21 columns</p>\n",
       "</div>"
      ]
     },
     "execution_count": 119,
     "metadata": {},
     "output_type": "execute_result"
    }
   ],
   "execution_count": 119
  },
  {
   "cell_type": "markdown",
   "id": "ed6d9054d02a70e1",
   "metadata": {
    "collapsed": false
   },
   "source": [
    "## Data Exploration"
   ]
  },
  {
   "cell_type": "code",
   "id": "4330980c69dff94f",
   "metadata": {
    "collapsed": false,
    "ExecuteTime": {
     "end_time": "2024-04-29T07:48:17.810336Z",
     "start_time": "2024-04-29T07:48:17.794693Z"
    }
   },
   "source": [
    "#Checking the shape of the dataset Training\n",
    "multiple_data_train.shape"
   ],
   "outputs": [
    {
     "data": {
      "text/plain": [
       "(44453, 21)"
      ]
     },
     "execution_count": 120,
     "metadata": {},
     "output_type": "execute_result"
    }
   ],
   "execution_count": 120
  },
  {
   "cell_type": "code",
   "id": "379b6b445b80f712",
   "metadata": {
    "collapsed": false,
    "ExecuteTime": {
     "end_time": "2024-04-29T07:48:17.857223Z",
     "start_time": "2024-04-29T07:48:17.810336Z"
    }
   },
   "source": [
    "#Basic information about the dataset Training\n",
    "multiple_data_train.info()"
   ],
   "outputs": [
    {
     "name": "stdout",
     "output_type": "stream",
     "text": [
      "<class 'pandas.core.frame.DataFrame'>\n",
      "RangeIndex: 44453 entries, 0 to 44452\n",
      "Data columns (total 21 columns):\n",
      " #   Column                Non-Null Count  Dtype \n",
      "---  ------                --------------  ----- \n",
      " 0   COUGH                 44453 non-null  int64 \n",
      " 1   MUSCLE_ACHES          44453 non-null  int64 \n",
      " 2   TIREDNESS             44453 non-null  int64 \n",
      " 3   SORE_THROAT           44453 non-null  int64 \n",
      " 4   RUNNY_NOSE            44453 non-null  int64 \n",
      " 5   STUFFY_NOSE           44453 non-null  int64 \n",
      " 6   FEVER                 44453 non-null  int64 \n",
      " 7   NAUSEA                44453 non-null  int64 \n",
      " 8   VOMITING              44453 non-null  int64 \n",
      " 9   DIARRHEA              44453 non-null  int64 \n",
      " 10  SHORTNESS_OF_BREATH   44453 non-null  int64 \n",
      " 11  DIFFICULTY_BREATHING  44453 non-null  int64 \n",
      " 12  LOSS_OF_TASTE         44453 non-null  int64 \n",
      " 13  LOSS_OF_SMELL         44453 non-null  int64 \n",
      " 14  ITCHY_NOSE            44453 non-null  int64 \n",
      " 15  ITCHY_EYES            44453 non-null  int64 \n",
      " 16  ITCHY_MOUTH           44453 non-null  int64 \n",
      " 17  ITCHY_INNER_EAR       44453 non-null  int64 \n",
      " 18  SNEEZING              44453 non-null  int64 \n",
      " 19  PINK_EYE              44453 non-null  int64 \n",
      " 20  TYPE                  44453 non-null  object\n",
      "dtypes: int64(20), object(1)\n",
      "memory usage: 7.1+ MB\n"
     ]
    }
   ],
   "execution_count": 121
  },
  {
   "cell_type": "code",
   "id": "a1e59eab7b605d47",
   "metadata": {
    "collapsed": false,
    "ExecuteTime": {
     "end_time": "2024-04-29T07:48:17.951386Z",
     "start_time": "2024-04-29T07:48:17.857223Z"
    }
   },
   "source": [
    "#Summary statistics of the dataset Training\n",
    "multiple_data_train.describe()"
   ],
   "outputs": [
    {
     "data": {
      "text/plain": [
       "              COUGH  MUSCLE_ACHES     TIREDNESS   SORE_THROAT    RUNNY_NOSE  \\\n",
       "count  44453.000000  44453.000000  44453.000000  44453.000000  44453.000000   \n",
       "mean       0.520662      0.519762      0.519897      0.519358      0.496232   \n",
       "std        0.499579      0.499615      0.499610      0.499631      0.499991   \n",
       "min        0.000000      0.000000      0.000000      0.000000      0.000000   \n",
       "25%        0.000000      0.000000      0.000000      0.000000      0.000000   \n",
       "50%        1.000000      1.000000      1.000000      1.000000      0.000000   \n",
       "75%        1.000000      1.000000      1.000000      1.000000      1.000000   \n",
       "max        1.000000      1.000000      1.000000      1.000000      1.000000   \n",
       "\n",
       "        STUFFY_NOSE         FEVER        NAUSEA      VOMITING      DIARRHEA  \\\n",
       "count  44453.000000  44453.000000  44453.000000  44453.000000  44453.000000   \n",
       "mean       0.495850      0.325400      0.324253      0.324523      0.323465   \n",
       "std        0.499988      0.468529      0.468100      0.468201      0.467804   \n",
       "min        0.000000      0.000000      0.000000      0.000000      0.000000   \n",
       "25%        0.000000      0.000000      0.000000      0.000000      0.000000   \n",
       "50%        0.000000      0.000000      0.000000      0.000000      0.000000   \n",
       "75%        1.000000      1.000000      1.000000      1.000000      1.000000   \n",
       "max        1.000000      1.000000      1.000000      1.000000      1.000000   \n",
       "\n",
       "       SHORTNESS_OF_BREATH  DIFFICULTY_BREATHING  LOSS_OF_TASTE  \\\n",
       "count         44453.000000          44453.000000   44453.000000   \n",
       "mean              0.323893              0.324455       0.422986   \n",
       "std               0.467965              0.468176       0.494039   \n",
       "min               0.000000              0.000000       0.000000   \n",
       "25%               0.000000              0.000000       0.000000   \n",
       "50%               0.000000              0.000000       0.000000   \n",
       "75%               1.000000              1.000000       1.000000   \n",
       "max               1.000000              1.000000       1.000000   \n",
       "\n",
       "       LOSS_OF_SMELL    ITCHY_NOSE    ITCHY_EYES   ITCHY_MOUTH  \\\n",
       "count   44453.000000  44453.000000  44453.000000  44453.000000   \n",
       "mean        0.423234      0.184285      0.184285      0.184285   \n",
       "std         0.494077      0.387720      0.387720      0.387720   \n",
       "min         0.000000      0.000000      0.000000      0.000000   \n",
       "25%         0.000000      0.000000      0.000000      0.000000   \n",
       "50%         0.000000      0.000000      0.000000      0.000000   \n",
       "75%         1.000000      0.000000      0.000000      0.000000   \n",
       "max         1.000000      1.000000      1.000000      1.000000   \n",
       "\n",
       "       ITCHY_INNER_EAR      SNEEZING      PINK_EYE  \n",
       "count     44453.000000  44453.000000  44453.000000  \n",
       "mean          0.184285      0.519313      0.184240  \n",
       "std           0.387720      0.499633      0.387684  \n",
       "min           0.000000      0.000000      0.000000  \n",
       "25%           0.000000      0.000000      0.000000  \n",
       "50%           0.000000      1.000000      0.000000  \n",
       "75%           0.000000      1.000000      0.000000  \n",
       "max           1.000000      1.000000      1.000000  "
      ],
      "text/html": [
       "<div>\n",
       "<style scoped>\n",
       "    .dataframe tbody tr th:only-of-type {\n",
       "        vertical-align: middle;\n",
       "    }\n",
       "\n",
       "    .dataframe tbody tr th {\n",
       "        vertical-align: top;\n",
       "    }\n",
       "\n",
       "    .dataframe thead th {\n",
       "        text-align: right;\n",
       "    }\n",
       "</style>\n",
       "<table border=\"1\" class=\"dataframe\">\n",
       "  <thead>\n",
       "    <tr style=\"text-align: right;\">\n",
       "      <th></th>\n",
       "      <th>COUGH</th>\n",
       "      <th>MUSCLE_ACHES</th>\n",
       "      <th>TIREDNESS</th>\n",
       "      <th>SORE_THROAT</th>\n",
       "      <th>RUNNY_NOSE</th>\n",
       "      <th>STUFFY_NOSE</th>\n",
       "      <th>FEVER</th>\n",
       "      <th>NAUSEA</th>\n",
       "      <th>VOMITING</th>\n",
       "      <th>DIARRHEA</th>\n",
       "      <th>SHORTNESS_OF_BREATH</th>\n",
       "      <th>DIFFICULTY_BREATHING</th>\n",
       "      <th>LOSS_OF_TASTE</th>\n",
       "      <th>LOSS_OF_SMELL</th>\n",
       "      <th>ITCHY_NOSE</th>\n",
       "      <th>ITCHY_EYES</th>\n",
       "      <th>ITCHY_MOUTH</th>\n",
       "      <th>ITCHY_INNER_EAR</th>\n",
       "      <th>SNEEZING</th>\n",
       "      <th>PINK_EYE</th>\n",
       "    </tr>\n",
       "  </thead>\n",
       "  <tbody>\n",
       "    <tr>\n",
       "      <th>count</th>\n",
       "      <td>44453.000000</td>\n",
       "      <td>44453.000000</td>\n",
       "      <td>44453.000000</td>\n",
       "      <td>44453.000000</td>\n",
       "      <td>44453.000000</td>\n",
       "      <td>44453.000000</td>\n",
       "      <td>44453.000000</td>\n",
       "      <td>44453.000000</td>\n",
       "      <td>44453.000000</td>\n",
       "      <td>44453.000000</td>\n",
       "      <td>44453.000000</td>\n",
       "      <td>44453.000000</td>\n",
       "      <td>44453.000000</td>\n",
       "      <td>44453.000000</td>\n",
       "      <td>44453.000000</td>\n",
       "      <td>44453.000000</td>\n",
       "      <td>44453.000000</td>\n",
       "      <td>44453.000000</td>\n",
       "      <td>44453.000000</td>\n",
       "      <td>44453.000000</td>\n",
       "    </tr>\n",
       "    <tr>\n",
       "      <th>mean</th>\n",
       "      <td>0.520662</td>\n",
       "      <td>0.519762</td>\n",
       "      <td>0.519897</td>\n",
       "      <td>0.519358</td>\n",
       "      <td>0.496232</td>\n",
       "      <td>0.495850</td>\n",
       "      <td>0.325400</td>\n",
       "      <td>0.324253</td>\n",
       "      <td>0.324523</td>\n",
       "      <td>0.323465</td>\n",
       "      <td>0.323893</td>\n",
       "      <td>0.324455</td>\n",
       "      <td>0.422986</td>\n",
       "      <td>0.423234</td>\n",
       "      <td>0.184285</td>\n",
       "      <td>0.184285</td>\n",
       "      <td>0.184285</td>\n",
       "      <td>0.184285</td>\n",
       "      <td>0.519313</td>\n",
       "      <td>0.184240</td>\n",
       "    </tr>\n",
       "    <tr>\n",
       "      <th>std</th>\n",
       "      <td>0.499579</td>\n",
       "      <td>0.499615</td>\n",
       "      <td>0.499610</td>\n",
       "      <td>0.499631</td>\n",
       "      <td>0.499991</td>\n",
       "      <td>0.499988</td>\n",
       "      <td>0.468529</td>\n",
       "      <td>0.468100</td>\n",
       "      <td>0.468201</td>\n",
       "      <td>0.467804</td>\n",
       "      <td>0.467965</td>\n",
       "      <td>0.468176</td>\n",
       "      <td>0.494039</td>\n",
       "      <td>0.494077</td>\n",
       "      <td>0.387720</td>\n",
       "      <td>0.387720</td>\n",
       "      <td>0.387720</td>\n",
       "      <td>0.387720</td>\n",
       "      <td>0.499633</td>\n",
       "      <td>0.387684</td>\n",
       "    </tr>\n",
       "    <tr>\n",
       "      <th>min</th>\n",
       "      <td>0.000000</td>\n",
       "      <td>0.000000</td>\n",
       "      <td>0.000000</td>\n",
       "      <td>0.000000</td>\n",
       "      <td>0.000000</td>\n",
       "      <td>0.000000</td>\n",
       "      <td>0.000000</td>\n",
       "      <td>0.000000</td>\n",
       "      <td>0.000000</td>\n",
       "      <td>0.000000</td>\n",
       "      <td>0.000000</td>\n",
       "      <td>0.000000</td>\n",
       "      <td>0.000000</td>\n",
       "      <td>0.000000</td>\n",
       "      <td>0.000000</td>\n",
       "      <td>0.000000</td>\n",
       "      <td>0.000000</td>\n",
       "      <td>0.000000</td>\n",
       "      <td>0.000000</td>\n",
       "      <td>0.000000</td>\n",
       "    </tr>\n",
       "    <tr>\n",
       "      <th>25%</th>\n",
       "      <td>0.000000</td>\n",
       "      <td>0.000000</td>\n",
       "      <td>0.000000</td>\n",
       "      <td>0.000000</td>\n",
       "      <td>0.000000</td>\n",
       "      <td>0.000000</td>\n",
       "      <td>0.000000</td>\n",
       "      <td>0.000000</td>\n",
       "      <td>0.000000</td>\n",
       "      <td>0.000000</td>\n",
       "      <td>0.000000</td>\n",
       "      <td>0.000000</td>\n",
       "      <td>0.000000</td>\n",
       "      <td>0.000000</td>\n",
       "      <td>0.000000</td>\n",
       "      <td>0.000000</td>\n",
       "      <td>0.000000</td>\n",
       "      <td>0.000000</td>\n",
       "      <td>0.000000</td>\n",
       "      <td>0.000000</td>\n",
       "    </tr>\n",
       "    <tr>\n",
       "      <th>50%</th>\n",
       "      <td>1.000000</td>\n",
       "      <td>1.000000</td>\n",
       "      <td>1.000000</td>\n",
       "      <td>1.000000</td>\n",
       "      <td>0.000000</td>\n",
       "      <td>0.000000</td>\n",
       "      <td>0.000000</td>\n",
       "      <td>0.000000</td>\n",
       "      <td>0.000000</td>\n",
       "      <td>0.000000</td>\n",
       "      <td>0.000000</td>\n",
       "      <td>0.000000</td>\n",
       "      <td>0.000000</td>\n",
       "      <td>0.000000</td>\n",
       "      <td>0.000000</td>\n",
       "      <td>0.000000</td>\n",
       "      <td>0.000000</td>\n",
       "      <td>0.000000</td>\n",
       "      <td>1.000000</td>\n",
       "      <td>0.000000</td>\n",
       "    </tr>\n",
       "    <tr>\n",
       "      <th>75%</th>\n",
       "      <td>1.000000</td>\n",
       "      <td>1.000000</td>\n",
       "      <td>1.000000</td>\n",
       "      <td>1.000000</td>\n",
       "      <td>1.000000</td>\n",
       "      <td>1.000000</td>\n",
       "      <td>1.000000</td>\n",
       "      <td>1.000000</td>\n",
       "      <td>1.000000</td>\n",
       "      <td>1.000000</td>\n",
       "      <td>1.000000</td>\n",
       "      <td>1.000000</td>\n",
       "      <td>1.000000</td>\n",
       "      <td>1.000000</td>\n",
       "      <td>0.000000</td>\n",
       "      <td>0.000000</td>\n",
       "      <td>0.000000</td>\n",
       "      <td>0.000000</td>\n",
       "      <td>1.000000</td>\n",
       "      <td>0.000000</td>\n",
       "    </tr>\n",
       "    <tr>\n",
       "      <th>max</th>\n",
       "      <td>1.000000</td>\n",
       "      <td>1.000000</td>\n",
       "      <td>1.000000</td>\n",
       "      <td>1.000000</td>\n",
       "      <td>1.000000</td>\n",
       "      <td>1.000000</td>\n",
       "      <td>1.000000</td>\n",
       "      <td>1.000000</td>\n",
       "      <td>1.000000</td>\n",
       "      <td>1.000000</td>\n",
       "      <td>1.000000</td>\n",
       "      <td>1.000000</td>\n",
       "      <td>1.000000</td>\n",
       "      <td>1.000000</td>\n",
       "      <td>1.000000</td>\n",
       "      <td>1.000000</td>\n",
       "      <td>1.000000</td>\n",
       "      <td>1.000000</td>\n",
       "      <td>1.000000</td>\n",
       "      <td>1.000000</td>\n",
       "    </tr>\n",
       "  </tbody>\n",
       "</table>\n",
       "</div>"
      ]
     },
     "execution_count": 122,
     "metadata": {},
     "output_type": "execute_result"
    }
   ],
   "execution_count": 122
  },
  {
   "cell_type": "code",
   "id": "83011931c9add117",
   "metadata": {
    "collapsed": false,
    "ExecuteTime": {
     "end_time": "2024-04-29T07:48:17.999123Z",
     "start_time": "2024-04-29T07:48:17.951386Z"
    }
   },
   "source": [
    "#Checking for unique values in the dataset Training\n",
    "multiple_data_train.nunique()"
   ],
   "outputs": [
    {
     "data": {
      "text/plain": [
       "COUGH                   2\n",
       "MUSCLE_ACHES            2\n",
       "TIREDNESS               2\n",
       "SORE_THROAT             2\n",
       "RUNNY_NOSE              2\n",
       "STUFFY_NOSE             2\n",
       "FEVER                   2\n",
       "NAUSEA                  2\n",
       "VOMITING                2\n",
       "DIARRHEA                2\n",
       "SHORTNESS_OF_BREATH     2\n",
       "DIFFICULTY_BREATHING    2\n",
       "LOSS_OF_TASTE           2\n",
       "LOSS_OF_SMELL           2\n",
       "ITCHY_NOSE              2\n",
       "ITCHY_EYES              2\n",
       "ITCHY_MOUTH             2\n",
       "ITCHY_INNER_EAR         2\n",
       "SNEEZING                2\n",
       "PINK_EYE                2\n",
       "TYPE                    4\n",
       "dtype: int64"
      ]
     },
     "execution_count": 123,
     "metadata": {},
     "output_type": "execute_result"
    }
   ],
   "execution_count": 123
  },
  {
   "cell_type": "code",
   "id": "cadb3627ce210597",
   "metadata": {
    "collapsed": false,
    "ExecuteTime": {
     "end_time": "2024-04-29T07:48:18.014789Z",
     "start_time": "2024-04-29T07:48:17.999123Z"
    }
   },
   "source": [
    "#Checking Data Types Training\n",
    "multiple_data_train.dtypes"
   ],
   "outputs": [
    {
     "data": {
      "text/plain": [
       "COUGH                    int64\n",
       "MUSCLE_ACHES             int64\n",
       "TIREDNESS                int64\n",
       "SORE_THROAT              int64\n",
       "RUNNY_NOSE               int64\n",
       "STUFFY_NOSE              int64\n",
       "FEVER                    int64\n",
       "NAUSEA                   int64\n",
       "VOMITING                 int64\n",
       "DIARRHEA                 int64\n",
       "SHORTNESS_OF_BREATH      int64\n",
       "DIFFICULTY_BREATHING     int64\n",
       "LOSS_OF_TASTE            int64\n",
       "LOSS_OF_SMELL            int64\n",
       "ITCHY_NOSE               int64\n",
       "ITCHY_EYES               int64\n",
       "ITCHY_MOUTH              int64\n",
       "ITCHY_INNER_EAR          int64\n",
       "SNEEZING                 int64\n",
       "PINK_EYE                 int64\n",
       "TYPE                    object\n",
       "dtype: object"
      ]
     },
     "execution_count": 124,
     "metadata": {},
     "output_type": "execute_result"
    }
   ],
   "execution_count": 124
  },
  {
   "cell_type": "code",
   "id": "75466e9b383ecd4e",
   "metadata": {
    "collapsed": false,
    "ExecuteTime": {
     "end_time": "2024-04-29T07:48:18.124671Z",
     "start_time": "2024-04-29T07:48:18.109047Z"
    }
   },
   "source": [
    "#Checking for missing values in the dataset Training\n",
    "multiple_data_train.isnull().sum()"
   ],
   "outputs": [
    {
     "data": {
      "text/plain": [
       "COUGH                   0\n",
       "MUSCLE_ACHES            0\n",
       "TIREDNESS               0\n",
       "SORE_THROAT             0\n",
       "RUNNY_NOSE              0\n",
       "STUFFY_NOSE             0\n",
       "FEVER                   0\n",
       "NAUSEA                  0\n",
       "VOMITING                0\n",
       "DIARRHEA                0\n",
       "SHORTNESS_OF_BREATH     0\n",
       "DIFFICULTY_BREATHING    0\n",
       "LOSS_OF_TASTE           0\n",
       "LOSS_OF_SMELL           0\n",
       "ITCHY_NOSE              0\n",
       "ITCHY_EYES              0\n",
       "ITCHY_MOUTH             0\n",
       "ITCHY_INNER_EAR         0\n",
       "SNEEZING                0\n",
       "PINK_EYE                0\n",
       "TYPE                    0\n",
       "dtype: int64"
      ]
     },
     "execution_count": 125,
     "metadata": {},
     "output_type": "execute_result"
    }
   ],
   "execution_count": 125
  },
  {
   "cell_type": "markdown",
   "id": "68ddde1d5d1a34be",
   "metadata": {
    "collapsed": false
   },
   "source": [
    "### Data Visualization"
   ]
  },
  {
   "cell_type": "code",
   "id": "5155ff71ecfefefa",
   "metadata": {
    "collapsed": false,
    "ExecuteTime": {
     "end_time": "2024-04-29T07:48:18.428903Z",
     "start_time": "2024-04-29T07:48:18.397635Z"
    }
   },
   "source": [
    "# Set the aesthetic style of the plots\n",
    "sns.set_style(\"whitegrid\")"
   ],
   "outputs": [],
   "execution_count": 126
  },
  {
   "cell_type": "markdown",
   "id": "ccf85ddd554c8d7b",
   "metadata": {
    "collapsed": false
   },
   "source": [
    "#### Initial Data Exploration"
   ]
  },
  {
   "cell_type": "code",
   "id": "1dfabfc56d61625c",
   "metadata": {
    "collapsed": false,
    "ExecuteTime": {
     "end_time": "2024-04-29T07:48:19.116682Z",
     "start_time": "2024-04-29T07:48:18.738890Z"
    }
   },
   "source": [
    "# Prepare the figure for the distribution of prognosis Training\n",
    "plt.figure(figsize=(10, 8))\n",
    "sns.countplot(y='TYPE', data=multiple_data_train, order = multiple_data_train['TYPE'].value_counts().index)\n",
    "plt.title('Distribution of TYPE ')\n",
    "plt.xlabel('Count')\n",
    "plt.ylabel('TYPE')\n",
    "plt.tight_layout()\n",
    "plt.show()\n",
    "\n",
    "\n"
   ],
   "outputs": [
    {
     "data": {
      "text/plain": [
       "<Figure size 1000x800 with 1 Axes>"
      ],
      "image/png": "[encoded data removed]"
     },
     "metadata": {},
     "output_type": "display_data"
    }
   ],
   "execution_count": 127
  },
  {
   "cell_type": "markdown",
   "id": "f2e53266a30f5759",
   "metadata": {
    "collapsed": false
   },
   "source": [
    "### Attribute Information"
   ]
  },
  {
   "cell_type": "markdown",
   "id": "edb630adb2f7ca09",
   "metadata": {
    "collapsed": false
   },
   "source": [
    "## Data Preprocessing"
   ]
  },
  {
   "cell_type": "markdown",
   "id": "1af35da6306006c7",
   "metadata": {
    "collapsed": false
   },
   "source": [
    "### Handling Missing Values"
   ]
  },
  {
   "metadata": {
    "ExecuteTime": {
     "end_time": "2024-04-29T07:48:19.147966Z",
     "start_time": "2024-04-29T07:48:19.116682Z"
    }
   },
   "cell_type": "code",
   "source": [
    "# Check if BMI is imputed correctly\n",
    "multiple_data_train.isnull().sum()"
   ],
   "id": "6e988b32cca9d063",
   "outputs": [
    {
     "data": {
      "text/plain": [
       "COUGH                   0\n",
       "MUSCLE_ACHES            0\n",
       "TIREDNESS               0\n",
       "SORE_THROAT             0\n",
       "RUNNY_NOSE              0\n",
       "STUFFY_NOSE             0\n",
       "FEVER                   0\n",
       "NAUSEA                  0\n",
       "VOMITING                0\n",
       "DIARRHEA                0\n",
       "SHORTNESS_OF_BREATH     0\n",
       "DIFFICULTY_BREATHING    0\n",
       "LOSS_OF_TASTE           0\n",
       "LOSS_OF_SMELL           0\n",
       "ITCHY_NOSE              0\n",
       "ITCHY_EYES              0\n",
       "ITCHY_MOUTH             0\n",
       "ITCHY_INNER_EAR         0\n",
       "SNEEZING                0\n",
       "PINK_EYE                0\n",
       "TYPE                    0\n",
       "dtype: int64"
      ]
     },
     "execution_count": 128,
     "metadata": {},
     "output_type": "execute_result"
    }
   ],
   "execution_count": 128
  },
  {
   "metadata": {
    "ExecuteTime": {
     "end_time": "2024-04-29T07:48:19.195224Z",
     "start_time": "2024-04-29T07:48:19.147966Z"
    }
   },
   "cell_type": "code",
   "source": [
    "from sklearn.preprocessing import LabelEncoder\n",
    "\n",
    "# Instantiate the LabelEncoder\n",
    "label_encoder = LabelEncoder()\n",
    "\n",
    "# Fit the LabelEncoder on the 'TYPE' column of the training set\n",
    "label_encoder.fit(multiple_data_train['TYPE'])\n",
    "\n",
    "# Transform the 'TYPE' column of the training set\n",
    "multiple_data_train['TYPE'] = label_encoder.transform(multiple_data_train['TYPE'])"
   ],
   "id": "7f729b3ff08696ab",
   "outputs": [],
   "execution_count": 129
  },
  {
   "cell_type": "markdown",
   "id": "720bb2a29d3985a5",
   "metadata": {
    "collapsed": false
   },
   "source": "### Splitting the Data"
  },
  {
   "cell_type": "code",
   "id": "b67d2bce6f72cca9",
   "metadata": {
    "collapsed": false,
    "ExecuteTime": {
     "end_time": "2024-04-29T07:48:38.516364Z",
     "start_time": "2024-04-29T07:48:19.195224Z"
    }
   },
   "source": [
    "from sklearn.model_selection import StratifiedShuffleSplit\n",
    "from imblearn.over_sampling import SMOTE\n",
    "\n",
    "smote = SMOTE(random_state=42)\n",
    "\n",
    "X = multiple_data_train.drop(['TYPE', 'id'], axis=1).values\n",
    "y = multiple_data_train['TYPE'].values\n",
    "\n",
    "X_res, y_res = smote.fit_resample(X, y)\n",
    "sss = StratifiedShuffleSplit(n_splits=1, test_size=0.2, random_state=0)\n",
    "\n",
    "for train_index, test_index in sss.split(X_res, y_res):\n",
    "    X_train, X_test = X_res[train_index], X_res[test_index]\n",
    "    y_train, y_test = y_res[train_index], y_res[test_index]"
   ],
   "outputs": [],
   "execution_count": 130
  },
  {
   "metadata": {
    "ExecuteTime": {
     "end_time": "2024-04-29T07:48:39.131678Z",
     "start_time": "2024-04-29T07:48:38.550623Z"
    }
   },
   "cell_type": "code",
   "source": [
    "# Convert the resampled target data to a DataFrame for easier plotting\n",
    "y_train_res_df = pd.DataFrame(y_res, columns=['TYPE'])\n",
    "\n",
    "# Plot the distribution of the target variable after SMOTE\n",
    "sns.countplot(x='TYPE', data=y_train_res_df)\n",
    "plt.title('Class Distribution after SMOTE')\n",
    "plt.show()"
   ],
   "id": "dd0872ffe2be965d",
   "outputs": [
    {
     "data": {
      "text/plain": [
       "<Figure size 640x480 with 1 Axes>"
      ],
      "image/png": "[encoded data removed]"
     },
     "metadata": {},
     "output_type": "display_data"
    }
   ],
   "execution_count": 131
  },
  {
   "cell_type": "code",
   "id": "40713f304530ce01",
   "metadata": {
    "collapsed": false,
    "ExecuteTime": {
     "end_time": "2024-04-29T07:48:39.147300Z",
     "start_time": "2024-04-29T07:48:39.131678Z"
    }
   },
   "source": [
    "def evaluate_model(model, X_train, y_train, X_test, y_test):\n",
    "    model.fit(X_train, y_train)\n",
    "    y_pred = model.predict(X_test)\n",
    "    accuracy = accuracy_score(y_test, y_pred)\n",
    "    precision = precision_score(y_test, y_pred, average='micro')  \n",
    "    recall = recall_score(y_test, y_pred, average='micro')  \n",
    "    f1 = f1_score(y_test, y_pred, average='micro')  \n",
    "\n",
    "    \n",
    "    print(f\"Accuracy: {accuracy}\")\n",
    "    print(f\"Precision: {precision}\")\n",
    "    print(f\"Recall: {recall}\")\n",
    "    print(f\"F1 Score: {f1}\")\n",
    "\n",
    "    \n",
    "    cm = confusion_matrix(y_test, y_pred)\n",
    "    sns.heatmap(cm, annot=True, fmt='d')\n",
    "    plt.title('Confusion Matrix')\n",
    "    plt.show()"
   ],
   "outputs": [],
   "execution_count": 132
  },
  {
   "cell_type": "markdown",
   "id": "5bc49375b13397e0",
   "metadata": {
    "collapsed": false
   },
   "source": [
    "## Model Building"
   ]
  },
  {
   "cell_type": "markdown",
   "id": "dd2954a134531b27",
   "metadata": {
    "collapsed": false
   },
   "source": [
    "### Logistic Regression"
   ]
  },
  {
   "cell_type": "code",
   "id": "48ee496e0418414e",
   "metadata": {
    "collapsed": false,
    "ExecuteTime": {
     "end_time": "2024-04-29T07:48:41.995130Z",
     "start_time": "2024-04-29T07:48:39.147300Z"
    }
   },
   "source": [
    "print(\"Logistic Regression:\")\n",
    "lr = LogisticRegression()\n",
    "evaluate_model(lr, X_train, y_train, X_test, y_test)"
   ],
   "outputs": [
    {
     "name": "stdout",
     "output_type": "stream",
     "text": [
      "Logistic Regression:\n"
     ]
    },
    {
     "name": "stderr",
     "output_type": "stream",
     "text": [
      "c:\\users\\abuba\\appdata\\local\\programs\\python\\python39\\lib\\site-packages\\sklearn\\linear_model\\_logistic.py:460: ConvergenceWarning: lbfgs failed to converge (status=1):\n",
      "STOP: TOTAL NO. of ITERATIONS REACHED LIMIT.\n",
      "\n",
      "Increase the number of iterations (max_iter) or scale the data as shown in:\n",
      "    https://scikit-learn.org/stable/modules/preprocessing.html\n",
      "Please also refer to the documentation for alternative solver options:\n",
      "    https://scikit-learn.org/stable/modules/linear_model.html#logistic-regression\n",
      "  n_iter_i = _check_optimize_result(\n"
     ]
    },
    {
     "name": "stdout",
     "output_type": "stream",
     "text": [
      "Accuracy: 0.9563\n",
      "Precision: 0.9563\n",
      "Recall: 0.9563\n",
      "F1 Score: 0.9563\n"
     ]
    },
    {
     "data": {
      "text/plain": [
       "<Figure size 640x480 with 2 Axes>"
      ],
      "image/png": "[encoded data removed]"
     },
     "metadata": {},
     "output_type": "display_data"
    }
   ],
   "execution_count": 133
  },
  {
   "cell_type": "markdown",
   "id": "85c9214f263e6523",
   "metadata": {
    "collapsed": false
   },
   "source": [
    "### Decision Tree"
   ]
  },
  {
   "cell_type": "code",
   "id": "526d7618c27cb7d",
   "metadata": {
    "collapsed": false,
    "ExecuteTime": {
     "end_time": "2024-04-29T07:48:42.577848Z",
     "start_time": "2024-04-29T07:48:41.995130Z"
    }
   },
   "source": [
    "print(\"Decision Trees:\")\n",
    "dt = DecisionTreeClassifier()\n",
    "evaluate_model(dt, X_train, y_train, X_test, y_test)"
   ],
   "outputs": [
    {
     "name": "stdout",
     "output_type": "stream",
     "text": [
      "Decision Trees:\n",
      "Accuracy: 0.95575\n",
      "Precision: 0.95575\n",
      "Recall: 0.95575\n",
      "F1 Score: 0.95575\n"
     ]
    },
    {
     "data": {
      "text/plain": [
       "<Figure size 640x480 with 2 Axes>"
      ],
      "image/png": "[encoded data removed]"
     },
     "metadata": {},
     "output_type": "display_data"
    }
   ],
   "execution_count": 134
  },
  {
   "cell_type": "markdown",
   "id": "33fd944f587efcbc",
   "metadata": {
    "collapsed": false
   },
   "source": [
    "### Random Forest"
   ]
  },
  {
   "cell_type": "code",
   "id": "9651809a6e76b1fb",
   "metadata": {
    "collapsed": false,
    "ExecuteTime": {
     "end_time": "2024-04-29T07:48:48.626610Z",
     "start_time": "2024-04-29T07:48:42.577848Z"
    }
   },
   "source": [
    "print(\"Random Forest:\")\n",
    "rf = RandomForestClassifier()\n",
    "evaluate_model(rf, X_train, y_train, X_test, y_test)"
   ],
   "outputs": [
    {
     "name": "stdout",
     "output_type": "stream",
     "text": [
      "Random Forest:\n",
      "Accuracy: 0.95525\n",
      "Precision: 0.95525\n",
      "Recall: 0.95525\n",
      "F1 Score: 0.95525\n"
     ]
    },
    {
     "data": {
      "text/plain": [
       "<Figure size 640x480 with 2 Axes>"
      ],
      "image/png": "[encoded data removed]"
     },
     "metadata": {},
     "output_type": "display_data"
    }
   ],
   "execution_count": 135
  },
  {
   "cell_type": "markdown",
   "id": "de4cefc61437a898",
   "metadata": {
    "collapsed": false
   },
   "source": [
    "### Support Vector Machine (SVM)"
   ]
  },
  {
   "cell_type": "code",
   "id": "4dad18ac0c2814cf",
   "metadata": {
    "collapsed": false,
    "ExecuteTime": {
     "end_time": "2024-04-29T07:51:23.248875Z",
     "start_time": "2024-04-29T07:48:48.626610Z"
    }
   },
   "source": [
    "print(\"Support Vector Machines:\")\n",
    "svc = SVC()\n",
    "evaluate_model(svc, X_train, y_train, X_test, y_test)"
   ],
   "outputs": [
    {
     "name": "stdout",
     "output_type": "stream",
     "text": [
      "Support Vector Machines:\n",
      "Accuracy: 0.9563\n",
      "Precision: 0.9563\n",
      "Recall: 0.9563\n",
      "F1 Score: 0.9563\n"
     ]
    },
    {
     "data": {
      "text/plain": [
       "<Figure size 640x480 with 2 Axes>"
      ],
      "image/png": "[encoded data removed]"
     },
     "metadata": {},
     "output_type": "display_data"
    }
   ],
   "execution_count": 136
  },
  {
   "metadata": {},
   "cell_type": "markdown",
   "source": "### Naive Bayes (GaussianNB)",
   "id": "f3c0d6c474ae9494"
  },
  {
   "cell_type": "code",
   "id": "7d530a86a7c57125",
   "metadata": {
    "collapsed": false,
    "ExecuteTime": {
     "end_time": "2024-04-29T07:51:23.672409Z",
     "start_time": "2024-04-29T07:51:23.264498Z"
    }
   },
   "source": [
    "print(\"Naive Bayes:\")\n",
    "nb = GaussianNB()\n",
    "evaluate_model(nb, X_train, y_train, X_test, y_test)"
   ],
   "outputs": [
    {
     "name": "stdout",
     "output_type": "stream",
     "text": [
      "Naive Bayes:\n",
      "Accuracy: 0.9563\n",
      "Precision: 0.9563\n",
      "Recall: 0.9563\n",
      "F1 Score: 0.9563\n"
     ]
    },
    {
     "data": {
      "text/plain": [
       "<Figure size 640x480 with 2 Axes>"
      ],
      "image/png": "[encoded data removed]"
     },
     "metadata": {},
     "output_type": "display_data"
    }
   ],
   "execution_count": 137
  },
  {
   "cell_type": "markdown",
   "source": [
    "## Hyperparameter Tuning"
   ],
   "metadata": {
    "collapsed": false
   },
   "id": "5ed7af9a3d1c6030"
  },
  {
   "metadata": {},
   "cell_type": "markdown",
   "source": "## Grid Search",
   "id": "2f521e50d1b28f3a"
  },
  {
   "metadata": {
    "ExecuteTime": {
     "end_time": "2024-04-29T09:58:14.531430Z",
     "start_time": "2024-04-29T09:52:25.618849Z"
    }
   },
   "cell_type": "code",
   "source": [
    "from sklearn.model_selection import GridSearchCV\n",
    "\n",
    "print(\"Logistic Regression with Grid Search:\")\n",
    "\n",
    "# Define the parameter grid\n",
    "param_grid = {\n",
    "    'C': [0.001, 0.01, 0.1, 1, 10, 100, 1000],\n",
    "    'penalty': ['l1', 'l2'],\n",
    "    'solver': ['newton-cg', 'lbfgs', 'liblinear', 'sag', 'saga']\n",
    "}\n",
    "\n",
    "# Create a base model\n",
    "lr = LogisticRegression()\n",
    "\n",
    "# Instantiate the grid search model\n",
    "grid_search = GridSearchCV(estimator=lr, param_grid=param_grid, cv=5, n_jobs=-1, verbose=2)\n",
    "\n",
    "# Fit the grid search to the data\n",
    "grid_search.fit(X_train, y_train)\n",
    "\n",
    "# Print the best parameters\n",
    "print(\"Best Parameters: \", grid_search.best_params_)\n",
    "\n",
    "# Evaluate the model\n",
    "evaluate_model(grid_search, X_train, y_train, X_test, y_test)"
   ],
   "id": "b7fcd0406f3dcd7d",
   "outputs": [
    {
     "name": "stdout",
     "output_type": "stream",
     "text": [
      "Logistic Regression with Grid Search:\n",
      "Fitting 5 folds for each of 70 candidates, totalling 350 fits\n"
     ]
    },
    {
     "name": "stderr",
     "output_type": "stream",
     "text": [
      "c:\\users\\abuba\\appdata\\local\\programs\\python\\python39\\lib\\site-packages\\sklearn\\model_selection\\_validation.py:425: FitFailedWarning: \n",
      "105 fits failed out of a total of 350.\n",
      "The score on these train-test partitions for these parameters will be set to nan.\n",
      "If these failures are not expected, you can try to debug them by setting error_score='raise'.\n",
      "\n",
      "Below are more details about the failures:\n",
      "--------------------------------------------------------------------------------\n",
      "35 fits failed with the following error:\n",
      "Traceback (most recent call last):\n",
      "  File \"c:\\users\\abuba\\appdata\\local\\programs\\python\\python39\\lib\\site-packages\\sklearn\\model_selection\\_validation.py\", line 729, in _fit_and_score\n",
      "    estimator.fit(X_train, y_train, **fit_params)\n",
      "  File \"c:\\users\\abuba\\appdata\\local\\programs\\python\\python39\\lib\\site-packages\\sklearn\\base.py\", line 1152, in wrapper\n",
      "    return fit_method(estimator, *args, **kwargs)\n",
      "  File \"c:\\users\\abuba\\appdata\\local\\programs\\python\\python39\\lib\\site-packages\\sklearn\\linear_model\\_logistic.py\", line 1169, in fit\n",
      "    solver = _check_solver(self.solver, self.penalty, self.dual)\n",
      "  File \"c:\\users\\abuba\\appdata\\local\\programs\\python\\python39\\lib\\site-packages\\sklearn\\linear_model\\_logistic.py\", line 56, in _check_solver\n",
      "    raise ValueError(\n",
      "ValueError: Solver newton-cg supports only 'l2' or 'none' penalties, got l1 penalty.\n",
      "\n",
      "--------------------------------------------------------------------------------\n",
      "35 fits failed with the following error:\n",
      "Traceback (most recent call last):\n",
      "  File \"c:\\users\\abuba\\appdata\\local\\programs\\python\\python39\\lib\\site-packages\\sklearn\\model_selection\\_validation.py\", line 729, in _fit_and_score\n",
      "    estimator.fit(X_train, y_train, **fit_params)\n",
      "  File \"c:\\users\\abuba\\appdata\\local\\programs\\python\\python39\\lib\\site-packages\\sklearn\\base.py\", line 1152, in wrapper\n",
      "    return fit_method(estimator, *args, **kwargs)\n",
      "  File \"c:\\users\\abuba\\appdata\\local\\programs\\python\\python39\\lib\\site-packages\\sklearn\\linear_model\\_logistic.py\", line 1169, in fit\n",
      "    solver = _check_solver(self.solver, self.penalty, self.dual)\n",
      "  File \"c:\\users\\abuba\\appdata\\local\\programs\\python\\python39\\lib\\site-packages\\sklearn\\linear_model\\_logistic.py\", line 56, in _check_solver\n",
      "    raise ValueError(\n",
      "ValueError: Solver lbfgs supports only 'l2' or 'none' penalties, got l1 penalty.\n",
      "\n",
      "--------------------------------------------------------------------------------\n",
      "35 fits failed with the following error:\n",
      "Traceback (most recent call last):\n",
      "  File \"c:\\users\\abuba\\appdata\\local\\programs\\python\\python39\\lib\\site-packages\\sklearn\\model_selection\\_validation.py\", line 729, in _fit_and_score\n",
      "    estimator.fit(X_train, y_train, **fit_params)\n",
      "  File \"c:\\users\\abuba\\appdata\\local\\programs\\python\\python39\\lib\\site-packages\\sklearn\\base.py\", line 1152, in wrapper\n",
      "    return fit_method(estimator, *args, **kwargs)\n",
      "  File \"c:\\users\\abuba\\appdata\\local\\programs\\python\\python39\\lib\\site-packages\\sklearn\\linear_model\\_logistic.py\", line 1169, in fit\n",
      "    solver = _check_solver(self.solver, self.penalty, self.dual)\n",
      "  File \"c:\\users\\abuba\\appdata\\local\\programs\\python\\python39\\lib\\site-packages\\sklearn\\linear_model\\_logistic.py\", line 56, in _check_solver\n",
      "    raise ValueError(\n",
      "ValueError: Solver sag supports only 'l2' or 'none' penalties, got l1 penalty.\n",
      "\n",
      "  warnings.warn(some_fits_failed_message, FitFailedWarning)\n",
      "c:\\users\\abuba\\appdata\\local\\programs\\python\\python39\\lib\\site-packages\\sklearn\\model_selection\\_search.py:979: UserWarning: One or more of the test scores are non-finite: [      nan       nan 0.9282125       nan 0.8999    0.9348625 0.9348625\n",
      " 0.9373375 0.9348625 0.9348625       nan       nan 0.9525625       nan\n",
      " 0.9557375 0.9548125 0.9548125 0.947175  0.9548125 0.9548125       nan\n",
      "       nan 0.9557375       nan 0.9557375 0.9557375 0.9557375 0.9548875\n",
      " 0.9557375 0.9557375       nan       nan 0.9557375       nan 0.9557375\n",
      " 0.9557375 0.9557375 0.9557375 0.9557375 0.9557375       nan       nan\n",
      " 0.9557375       nan 0.9557375 0.9557375 0.9557375 0.9557375 0.9557375\n",
      " 0.9557375       nan       nan 0.9557375       nan 0.9557375 0.9557375\n",
      " 0.9557375 0.9557375 0.9557375 0.9557375       nan       nan 0.9557375\n",
      "       nan 0.9557375 0.9557375 0.9557375 0.9557375 0.9557375 0.9557375]\n",
      "  warnings.warn(\n"
     ]
    },
    {
     "name": "stdout",
     "output_type": "stream",
     "text": [
      "Best Parameters:  {'C': 0.01, 'penalty': 'l1', 'solver': 'saga'}\n",
      "Fitting 5 folds for each of 70 candidates, totalling 350 fits\n"
     ]
    },
    {
     "name": "stderr",
     "output_type": "stream",
     "text": [
      "c:\\users\\abuba\\appdata\\local\\programs\\python\\python39\\lib\\site-packages\\sklearn\\model_selection\\_validation.py:425: FitFailedWarning: \n",
      "105 fits failed out of a total of 350.\n",
      "The score on these train-test partitions for these parameters will be set to nan.\n",
      "If these failures are not expected, you can try to debug them by setting error_score='raise'.\n",
      "\n",
      "Below are more details about the failures:\n",
      "--------------------------------------------------------------------------------\n",
      "35 fits failed with the following error:\n",
      "Traceback (most recent call last):\n",
      "  File \"c:\\users\\abuba\\appdata\\local\\programs\\python\\python39\\lib\\site-packages\\sklearn\\model_selection\\_validation.py\", line 729, in _fit_and_score\n",
      "    estimator.fit(X_train, y_train, **fit_params)\n",
      "  File \"c:\\users\\abuba\\appdata\\local\\programs\\python\\python39\\lib\\site-packages\\sklearn\\base.py\", line 1152, in wrapper\n",
      "    return fit_method(estimator, *args, **kwargs)\n",
      "  File \"c:\\users\\abuba\\appdata\\local\\programs\\python\\python39\\lib\\site-packages\\sklearn\\linear_model\\_logistic.py\", line 1169, in fit\n",
      "    solver = _check_solver(self.solver, self.penalty, self.dual)\n",
      "  File \"c:\\users\\abuba\\appdata\\local\\programs\\python\\python39\\lib\\site-packages\\sklearn\\linear_model\\_logistic.py\", line 56, in _check_solver\n",
      "    raise ValueError(\n",
      "ValueError: Solver newton-cg supports only 'l2' or 'none' penalties, got l1 penalty.\n",
      "\n",
      "--------------------------------------------------------------------------------\n",
      "35 fits failed with the following error:\n",
      "Traceback (most recent call last):\n",
      "  File \"c:\\users\\abuba\\appdata\\local\\programs\\python\\python39\\lib\\site-packages\\sklearn\\model_selection\\_validation.py\", line 729, in _fit_and_score\n",
      "    estimator.fit(X_train, y_train, **fit_params)\n",
      "  File \"c:\\users\\abuba\\appdata\\local\\programs\\python\\python39\\lib\\site-packages\\sklearn\\base.py\", line 1152, in wrapper\n",
      "    return fit_method(estimator, *args, **kwargs)\n",
      "  File \"c:\\users\\abuba\\appdata\\local\\programs\\python\\python39\\lib\\site-packages\\sklearn\\linear_model\\_logistic.py\", line 1169, in fit\n",
      "    solver = _check_solver(self.solver, self.penalty, self.dual)\n",
      "  File \"c:\\users\\abuba\\appdata\\local\\programs\\python\\python39\\lib\\site-packages\\sklearn\\linear_model\\_logistic.py\", line 56, in _check_solver\n",
      "    raise ValueError(\n",
      "ValueError: Solver lbfgs supports only 'l2' or 'none' penalties, got l1 penalty.\n",
      "\n",
      "--------------------------------------------------------------------------------\n",
      "35 fits failed with the following error:\n",
      "Traceback (most recent call last):\n",
      "  File \"c:\\users\\abuba\\appdata\\local\\programs\\python\\python39\\lib\\site-packages\\sklearn\\model_selection\\_validation.py\", line 729, in _fit_and_score\n",
      "    estimator.fit(X_train, y_train, **fit_params)\n",
      "  File \"c:\\users\\abuba\\appdata\\local\\programs\\python\\python39\\lib\\site-packages\\sklearn\\base.py\", line 1152, in wrapper\n",
      "    return fit_method(estimator, *args, **kwargs)\n",
      "  File \"c:\\users\\abuba\\appdata\\local\\programs\\python\\python39\\lib\\site-packages\\sklearn\\linear_model\\_logistic.py\", line 1169, in fit\n",
      "    solver = _check_solver(self.solver, self.penalty, self.dual)\n",
      "  File \"c:\\users\\abuba\\appdata\\local\\programs\\python\\python39\\lib\\site-packages\\sklearn\\linear_model\\_logistic.py\", line 56, in _check_solver\n",
      "    raise ValueError(\n",
      "ValueError: Solver sag supports only 'l2' or 'none' penalties, got l1 penalty.\n",
      "\n",
      "  warnings.warn(some_fits_failed_message, FitFailedWarning)\n",
      "c:\\users\\abuba\\appdata\\local\\programs\\python\\python39\\lib\\site-packages\\sklearn\\model_selection\\_search.py:979: UserWarning: One or more of the test scores are non-finite: [      nan       nan 0.9282125       nan 0.8999    0.9348625 0.9348625\n",
      " 0.9373375 0.9348625 0.9348875       nan       nan 0.9525625       nan\n",
      " 0.9557375 0.9548125 0.9548125 0.947175  0.9548125 0.9548125       nan\n",
      "       nan 0.9557375       nan 0.9557375 0.9557375 0.9557375 0.9548875\n",
      " 0.9557375 0.9557375       nan       nan 0.9557375       nan 0.9557375\n",
      " 0.9557375 0.9557375 0.9557375 0.9557375 0.9557375       nan       nan\n",
      " 0.9557375       nan 0.9557375 0.9557375 0.9557375 0.9557375 0.9557375\n",
      " 0.9557375       nan       nan 0.9557375       nan 0.9557375 0.9557375\n",
      " 0.9557375 0.9557375 0.9557375 0.9557375       nan       nan 0.9557375\n",
      "       nan 0.9557375 0.9557375 0.9557375 0.9557375 0.9557375 0.9557375]\n",
      "  warnings.warn(\n"
     ]
    },
    {
     "name": "stdout",
     "output_type": "stream",
     "text": [
      "Accuracy: 0.9563\n",
      "Precision: 0.9563\n",
      "Recall: 0.9563\n",
      "F1 Score: 0.9563\n"
     ]
    },
    {
     "data": {
      "text/plain": [
       "<Figure size 640x480 with 2 Axes>"
      ],
      "image/png": "[encoded data removed]"
     },
     "metadata": {},
     "output_type": "display_data"
    }
   ],
   "execution_count": 143
  },
  {
   "metadata": {
    "ExecuteTime": {
     "end_time": "2024-04-29T07:51:42.338706Z",
     "start_time": "2024-04-29T07:51:23.688036Z"
    }
   },
   "cell_type": "code",
   "source": [
    "\n",
    "# Decision Tree\n",
    "param_grid_dt = {\n",
    "    'criterion': ['gini', 'entropy'],\n",
    "    'max_depth': [None, 2, 3, 4, 5, 6, 7, 8, 9, 10]\n",
    "}\n",
    "grid_search_dt = GridSearchCV(dt, param_grid_dt, cv=5, scoring='recall', n_jobs=-1)\n",
    "grid_search_dt.fit(X_train, y_train)\n",
    "\n",
    "print(\"Best parameters for Decision Tree: \", grid_search_dt.best_params_)\n",
    "evaluate_model(grid_search_dt, X_train, y_train, X_test, y_test)"
   ],
   "id": "c934a18b4afd8ab7",
   "outputs": [
    {
     "name": "stderr",
     "output_type": "stream",
     "text": [
      "c:\\users\\abuba\\appdata\\local\\programs\\python\\python39\\lib\\site-packages\\sklearn\\model_selection\\_search.py:979: UserWarning: One or more of the test scores are non-finite: [nan nan nan nan nan nan nan nan nan nan nan nan nan nan nan nan nan nan\n",
      " nan nan]\n",
      "  warnings.warn(\n"
     ]
    },
    {
     "name": "stdout",
     "output_type": "stream",
     "text": [
      "Best parameters for Decision Tree:  {'criterion': 'gini', 'max_depth': None}\n"
     ]
    },
    {
     "name": "stderr",
     "output_type": "stream",
     "text": [
      "c:\\users\\abuba\\appdata\\local\\programs\\python\\python39\\lib\\site-packages\\sklearn\\model_selection\\_search.py:979: UserWarning: One or more of the test scores are non-finite: [nan nan nan nan nan nan nan nan nan nan nan nan nan nan nan nan nan nan\n",
      " nan nan]\n",
      "  warnings.warn(\n"
     ]
    },
    {
     "name": "stdout",
     "output_type": "stream",
     "text": [
      "Accuracy: 0.95575\n",
      "Precision: 0.95575\n",
      "Recall: 0.95575\n",
      "F1 Score: 0.95575\n"
     ]
    },
    {
     "data": {
      "text/plain": [
       "<Figure size 640x480 with 2 Axes>"
      ],
      "image/png": "[encoded data removed]"
     },
     "metadata": {},
     "output_type": "display_data"
    }
   ],
   "execution_count": 139
  },
  {
   "metadata": {
    "ExecuteTime": {
     "end_time": "2024-04-29T08:01:54.401432Z",
     "start_time": "2024-04-29T07:51:42.344577Z"
    }
   },
   "cell_type": "code",
   "source": [
    "# Random Forest\n",
    "param_grid_rf = {\n",
    "    'n_estimators': [10, 50, 100, 200],\n",
    "    'criterion': ['gini', 'entropy'],\n",
    "    'max_depth': [None, 2, 3, 4, 5, 6, 7, 8, 9, 10]\n",
    "}\n",
    "grid_search_rf = GridSearchCV(rf, param_grid_rf, cv=5, scoring='recall', n_jobs=-1)\n",
    "grid_search_rf.fit(X_train, y_train)\n",
    "\n",
    "print(\"Best parameters for Random Forest: \", grid_search_rf.best_params_)\n",
    "evaluate_model(grid_search_rf, X_train, y_train, X_test, y_test)"
   ],
   "id": "b85bce3656792f36",
   "outputs": [
    {
     "name": "stderr",
     "output_type": "stream",
     "text": [
      "c:\\users\\abuba\\appdata\\local\\programs\\python\\python39\\lib\\site-packages\\sklearn\\model_selection\\_search.py:979: UserWarning: One or more of the test scores are non-finite: [nan nan nan nan nan nan nan nan nan nan nan nan nan nan nan nan nan nan\n",
      " nan nan nan nan nan nan nan nan nan nan nan nan nan nan nan nan nan nan\n",
      " nan nan nan nan nan nan nan nan nan nan nan nan nan nan nan nan nan nan\n",
      " nan nan nan nan nan nan nan nan nan nan nan nan nan nan nan nan nan nan\n",
      " nan nan nan nan nan nan nan nan]\n",
      "  warnings.warn(\n"
     ]
    },
    {
     "name": "stdout",
     "output_type": "stream",
     "text": [
      "Best parameters for Random Forest:  {'criterion': 'gini', 'max_depth': None, 'n_estimators': 10}\n"
     ]
    },
    {
     "name": "stderr",
     "output_type": "stream",
     "text": [
      "c:\\users\\abuba\\appdata\\local\\programs\\python\\python39\\lib\\site-packages\\sklearn\\model_selection\\_search.py:979: UserWarning: One or more of the test scores are non-finite: [nan nan nan nan nan nan nan nan nan nan nan nan nan nan nan nan nan nan\n",
      " nan nan nan nan nan nan nan nan nan nan nan nan nan nan nan nan nan nan\n",
      " nan nan nan nan nan nan nan nan nan nan nan nan nan nan nan nan nan nan\n",
      " nan nan nan nan nan nan nan nan nan nan nan nan nan nan nan nan nan nan\n",
      " nan nan nan nan nan nan nan nan]\n",
      "  warnings.warn(\n"
     ]
    },
    {
     "name": "stdout",
     "output_type": "stream",
     "text": [
      "Accuracy: 0.9549\n",
      "Precision: 0.9549\n",
      "Recall: 0.9549\n",
      "F1 Score: 0.9549\n"
     ]
    },
    {
     "data": {
      "text/plain": [
       "<Figure size 640x480 with 2 Axes>"
      ],
      "image/png": "[encoded data removed]"
     },
     "metadata": {},
     "output_type": "display_data"
    }
   ],
   "execution_count": 140
  },
  {
   "metadata": {
    "ExecuteTime": {
     "end_time": "2024-04-29T09:35:48.586008Z",
     "start_time": "2024-04-29T08:01:54.401939Z"
    }
   },
   "cell_type": "code",
   "source": [
    "# Support Vector Machine\n",
    "param_grid_svc = {\n",
    "    'C': [0.1, 1, 10, 100],\n",
    "    'kernel': ['linear', 'poly', 'rbf', 'sigmoid'],\n",
    "    'gamma': ['scale', 'auto']\n",
    "}\n",
    "grid_search_svc = GridSearchCV(svc, param_grid_svc, cv=5, scoring='recall', n_jobs=-1)\n",
    "grid_search_svc.fit(X_train, y_train)\n",
    "\n",
    "print(\"Best parameters for Support Vector Machine: \", grid_search_svc.best_params_)\n",
    "evaluate_model(grid_search_svc, X_train, y_train, X_test, y_test)"
   ],
   "id": "a3b19426e56d624f",
   "outputs": [
    {
     "name": "stderr",
     "output_type": "stream",
     "text": [
      "c:\\users\\abuba\\appdata\\local\\programs\\python\\python39\\lib\\site-packages\\sklearn\\model_selection\\_search.py:979: UserWarning: One or more of the test scores are non-finite: [nan nan nan nan nan nan nan nan nan nan nan nan nan nan nan nan nan nan\n",
      " nan nan nan nan nan nan nan nan nan nan nan nan nan nan]\n",
      "  warnings.warn(\n"
     ]
    },
    {
     "name": "stdout",
     "output_type": "stream",
     "text": [
      "Best parameters for Support Vector Machine:  {'C': 0.1, 'gamma': 'scale', 'kernel': 'linear'}\n"
     ]
    },
    {
     "name": "stderr",
     "output_type": "stream",
     "text": [
      "c:\\users\\abuba\\appdata\\local\\programs\\python\\python39\\lib\\site-packages\\sklearn\\model_selection\\_search.py:979: UserWarning: One or more of the test scores are non-finite: [nan nan nan nan nan nan nan nan nan nan nan nan nan nan nan nan nan nan\n",
      " nan nan nan nan nan nan nan nan nan nan nan nan nan nan]\n",
      "  warnings.warn(\n"
     ]
    },
    {
     "name": "stdout",
     "output_type": "stream",
     "text": [
      "Accuracy: 0.9563\n",
      "Precision: 0.9563\n",
      "Recall: 0.9563\n",
      "F1 Score: 0.9563\n"
     ]
    },
    {
     "data": {
      "text/plain": [
       "<Figure size 640x480 with 2 Axes>"
      ],
      "image/png": "[encoded data removed]"
     },
     "metadata": {},
     "output_type": "display_data"
    }
   ],
   "execution_count": 141
  },
  {
   "metadata": {
    "ExecuteTime": {
     "end_time": "2024-04-29T15:56:59.090333Z",
     "start_time": "2024-04-29T15:56:40.446404Z"
    }
   },
   "cell_type": "code",
   "source": [
    "def predict_disease(symptoms):\n",
    "    # Convert the symptoms dictionary to a DataFrame\n",
    "    symptoms_df = pd.DataFrame([symptoms])\n",
    "\n",
    "    # Remove the feature names from the DataFrame\n",
    "    symptoms_df.columns = range(symptoms_df.shape[1])\n",
    "\n",
    "    # Use the trained model to predict the disease\n",
    "    prediction = nb.predict(symptoms_df)\n",
    "\n",
    "    return prediction[0]\n",
    "\n",
    "CLA_fields = ['cough', 'muscle_aches', 'tiredness', 'sore_throat', 'runny_nose', 'stuffy_nose', 'fever', 'nausea',\n",
    "              'vomiting', 'diarrhea', 'shortness_of_breath', 'difficulty_breathing', 'loss_of_taste', 'loss_of_smell', 'itchy_nose',\n",
    "              'itchy_eyes', 'itchy_mouth', 'itchy_inner_ear', 'sneezing', 'pink_eye']\n",
    "\n",
    "symptoms = {symptom: 1 if input(f\"Do you have {symptom}? (yes/no): \").lower() == 'yes' else 0 for symptom in CLA_fields}\n",
    "\n",
    "print(predict_disease(symptoms))"
   ],
   "id": "5b0eca19697316d9",
   "outputs": [
    {
     "name": "stdout",
     "output_type": "stream",
     "text": [
      "1\n"
     ]
    }
   ],
   "execution_count": 147
  },
  {
   "metadata": {},
   "cell_type": "code",
   "outputs": [],
   "execution_count": null,
   "source": "",
   "id": "3e2b2afacf9866f0"
  }
 ],
 "metadata": {
  "kernelspec": {
   "display_name": "Python 3 (ipykernel)",
   "language": "python",
   "name": "python3"
  },
  "language_info": {
   "codemirror_mode": {
    "name": "ipython",
    "version": 3
   },
   "file_extension": ".py",
   "mimetype": "text/x-python",
   "name": "python",
   "nbconvert_exporter": "python",
   "pygments_lexer": "ipython3",
   "version": "3.9.6"
  }
 },
 "nbformat": 4,
 "nbformat_minor": 5
}
